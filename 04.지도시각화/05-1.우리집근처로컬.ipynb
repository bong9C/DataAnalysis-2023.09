{
 "cells": [
  {
   "cell_type": "markdown",
   "metadata": {},
   "source": [
    "## 카카오 로컬 API 활용\n",
    "-  도로명 주소 => 위도, 경도 좌표"
   ]
  },
  {
   "cell_type": "code",
   "execution_count": 23,
   "metadata": {},
   "outputs": [],
   "source": [
    "import requests, json\n",
    "import pandas as pd\n",
    "from urllib.parse import quote"
   ]
  },
  {
   "cell_type": "markdown",
   "metadata": {},
   "source": [
    "- API Key"
   ]
  },
  {
   "cell_type": "code",
   "execution_count": 24,
   "metadata": {},
   "outputs": [],
   "source": [
    "with open('keys/카카오apikey.txt') as file:\n",
    "    kakao_key = file.read()"
   ]
  },
  {
   "cell_type": "markdown",
   "metadata": {},
   "source": [
    "- URL 만들기"
   ]
  },
  {
   "cell_type": "code",
   "execution_count": 25,
   "metadata": {},
   "outputs": [],
   "source": [
    "base_url = 'https://dapi.kakao.com/v2/local/search/address.json'\n",
    "addr = '경기도 부천시 길주로 16 (상동)'\n",
    "url = f'{base_url}?query={quote(addr)}'"
   ]
  },
  {
   "cell_type": "code",
   "execution_count": 26,
   "metadata": {},
   "outputs": [],
   "source": [
    "# Header: Authorization: KakaoAK ${REST_API_KEY}\n",
    "header = {'Authorization': f'KakaoAK {kakao_key}'}"
   ]
  },
  {
   "cell_type": "markdown",
   "metadata": {},
   "source": [
    "- Kakao Local API 호출하여 결과 가져오기"
   ]
  },
  {
   "cell_type": "code",
   "execution_count": 27,
   "metadata": {},
   "outputs": [
    {
     "data": {
      "text/plain": [
       "{'documents': [{'address': {'address_name': '경기 부천시 상동 549',\n",
       "    'b_code': '4119010900',\n",
       "    'h_code': '4119074400',\n",
       "    'main_address_no': '549',\n",
       "    'mountain_yn': 'N',\n",
       "    'region_1depth_name': '경기',\n",
       "    'region_2depth_name': '부천시',\n",
       "    'region_3depth_h_name': '상동',\n",
       "    'region_3depth_name': '상동',\n",
       "    'sub_address_no': '',\n",
       "    'x': '126.744149568416',\n",
       "    'y': '37.506123727078'},\n",
       "   'address_name': '경기 부천시 길주로 16',\n",
       "   'address_type': 'ROAD_ADDR',\n",
       "   'road_address': {'address_name': '경기 부천시 길주로 16',\n",
       "    'building_name': '상동호수공원',\n",
       "    'main_building_no': '16',\n",
       "    'region_1depth_name': '경기',\n",
       "    'region_2depth_name': '부천시',\n",
       "    'region_3depth_name': '상동',\n",
       "    'road_name': '길주로',\n",
       "    'sub_building_no': '',\n",
       "    'underground_yn': 'N',\n",
       "    'x': '126.744149568416',\n",
       "    'y': '37.506123727078',\n",
       "    'zone_no': '14592'},\n",
       "   'x': '126.744149568416',\n",
       "   'y': '37.506123727078'}],\n",
       " 'meta': {'is_end': True, 'pageable_count': 1, 'total_count': 1}}"
      ]
     },
     "execution_count": 27,
     "metadata": {},
     "output_type": "execute_result"
    }
   ],
   "source": [
    "result = requests.get(url, headers=header).json()\n",
    "result"
   ]
  },
  {
   "cell_type": "code",
   "execution_count": 28,
   "metadata": {},
   "outputs": [
    {
     "data": {
      "text/plain": [
       "dict_keys(['address', 'address_name', 'address_type', 'road_address', 'x', 'y'])"
      ]
     },
     "execution_count": 28,
     "metadata": {},
     "output_type": "execute_result"
    }
   ],
   "source": [
    "result['documents'][0].keys()"
   ]
  },
  {
   "cell_type": "code",
   "execution_count": 29,
   "metadata": {},
   "outputs": [
    {
     "data": {
      "text/plain": [
       "(37.506123727078, 126.744149568416)"
      ]
     },
     "execution_count": 29,
     "metadata": {},
     "output_type": "execute_result"
    }
   ],
   "source": [
    "lat = float(result['documents'][0]['y'])\n",
    "lng = float(result['documents'][0]['x'])\n",
    "lat, lng"
   ]
  },
  {
   "cell_type": "markdown",
   "metadata": {},
   "source": [
    "- 영등포 소재 지하철역 정보 완성하기"
   ]
  },
  {
   "cell_type": "code",
   "execution_count": 30,
   "metadata": {},
   "outputs": [
    {
     "data": {
      "text/html": [
       "<div>\n",
       "<style scoped>\n",
       "    .dataframe tbody tr th:only-of-type {\n",
       "        vertical-align: middle;\n",
       "    }\n",
       "\n",
       "    .dataframe tbody tr th {\n",
       "        vertical-align: top;\n",
       "    }\n",
       "\n",
       "    .dataframe thead th {\n",
       "        text-align: right;\n",
       "    }\n",
       "</style>\n",
       "<table border=\"1\" class=\"dataframe\">\n",
       "  <thead>\n",
       "    <tr style=\"text-align: right;\">\n",
       "      <th></th>\n",
       "      <th>이름</th>\n",
       "      <th>주소</th>\n",
       "    </tr>\n",
       "  </thead>\n",
       "  <tbody>\n",
       "    <tr>\n",
       "      <th>0</th>\n",
       "      <td>상동호수공원</td>\n",
       "      <td>경기도 부천시 길주로 16 (상동)</td>\n",
       "    </tr>\n",
       "    <tr>\n",
       "      <th>1</th>\n",
       "      <td>부평역사박물관</td>\n",
       "      <td>인천광역시 부평구 굴포로 151 (삼산동)</td>\n",
       "    </tr>\n",
       "    <tr>\n",
       "      <th>2</th>\n",
       "      <td>부천체육관</td>\n",
       "      <td>경기도 부천시 석천로 293 (중동)</td>\n",
       "    </tr>\n",
       "    <tr>\n",
       "      <th>3</th>\n",
       "      <td>상동도서관</td>\n",
       "      <td>경기도 부천시 상이로 12 (상동)</td>\n",
       "    </tr>\n",
       "    <tr>\n",
       "      <th>4</th>\n",
       "      <td>부개도서관</td>\n",
       "      <td>인천광역시 부평구 부일로83번길 46 (부개동)</td>\n",
       "    </tr>\n",
       "  </tbody>\n",
       "</table>\n",
       "</div>"
      ],
      "text/plain": [
       "        이름                          주소\n",
       "0   상동호수공원         경기도 부천시 길주로 16 (상동)\n",
       "1  부평역사박물관     인천광역시 부평구 굴포로 151 (삼산동)\n",
       "2    부천체육관        경기도 부천시 석천로 293 (중동)\n",
       "3    상동도서관         경기도 부천시 상이로 12 (상동)\n",
       "4    부개도서관  인천광역시 부평구 부일로83번길 46 (부개동)"
      ]
     },
     "execution_count": 30,
     "metadata": {},
     "output_type": "execute_result"
    }
   ],
   "source": [
    "df = pd.read_csv('data/우리집주변.csv')\n",
    "df"
   ]
  },
  {
   "cell_type": "code",
   "execution_count": 31,
   "metadata": {},
   "outputs": [],
   "source": [
    "lat_list, lng_list = [], []\n",
    "for i in df.index:\n",
    "    url = f'{base_url}?query={quote(df[\"주소\"][i])}'\n",
    "    result = requests.get(url, headers=header).json()\n",
    "    lat_list.append(float(result['documents'][0]['y']))\n",
    "    lng_list.append(float(result['documents'][0]['x']))"
   ]
  },
  {
   "cell_type": "code",
   "execution_count": 32,
   "metadata": {},
   "outputs": [
    {
     "data": {
      "text/html": [
       "<div>\n",
       "<style scoped>\n",
       "    .dataframe tbody tr th:only-of-type {\n",
       "        vertical-align: middle;\n",
       "    }\n",
       "\n",
       "    .dataframe tbody tr th {\n",
       "        vertical-align: top;\n",
       "    }\n",
       "\n",
       "    .dataframe thead th {\n",
       "        text-align: right;\n",
       "    }\n",
       "</style>\n",
       "<table border=\"1\" class=\"dataframe\">\n",
       "  <thead>\n",
       "    <tr style=\"text-align: right;\">\n",
       "      <th></th>\n",
       "      <th>이름</th>\n",
       "      <th>주소</th>\n",
       "      <th>위도</th>\n",
       "      <th>경도</th>\n",
       "    </tr>\n",
       "  </thead>\n",
       "  <tbody>\n",
       "    <tr>\n",
       "      <th>0</th>\n",
       "      <td>상동호수공원</td>\n",
       "      <td>경기도 부천시 길주로 16 (상동)</td>\n",
       "      <td>37.506124</td>\n",
       "      <td>126.744150</td>\n",
       "    </tr>\n",
       "    <tr>\n",
       "      <th>1</th>\n",
       "      <td>부평역사박물관</td>\n",
       "      <td>인천광역시 부평구 굴포로 151 (삼산동)</td>\n",
       "      <td>37.512142</td>\n",
       "      <td>126.737908</td>\n",
       "    </tr>\n",
       "    <tr>\n",
       "      <th>2</th>\n",
       "      <td>부천체육관</td>\n",
       "      <td>경기도 부천시 석천로 293 (중동)</td>\n",
       "      <td>37.512757</td>\n",
       "      <td>126.763911</td>\n",
       "    </tr>\n",
       "    <tr>\n",
       "      <th>3</th>\n",
       "      <td>상동도서관</td>\n",
       "      <td>경기도 부천시 상이로 12 (상동)</td>\n",
       "      <td>37.490140</td>\n",
       "      <td>126.744751</td>\n",
       "    </tr>\n",
       "    <tr>\n",
       "      <th>4</th>\n",
       "      <td>부개도서관</td>\n",
       "      <td>인천광역시 부평구 부일로83번길 46 (부개동)</td>\n",
       "      <td>37.491021</td>\n",
       "      <td>126.739510</td>\n",
       "    </tr>\n",
       "  </tbody>\n",
       "</table>\n",
       "</div>"
      ],
      "text/plain": [
       "        이름                          주소         위도          경도\n",
       "0   상동호수공원         경기도 부천시 길주로 16 (상동)  37.506124  126.744150\n",
       "1  부평역사박물관     인천광역시 부평구 굴포로 151 (삼산동)  37.512142  126.737908\n",
       "2    부천체육관        경기도 부천시 석천로 293 (중동)  37.512757  126.763911\n",
       "3    상동도서관         경기도 부천시 상이로 12 (상동)  37.490140  126.744751\n",
       "4    부개도서관  인천광역시 부평구 부일로83번길 46 (부개동)  37.491021  126.739510"
      ]
     },
     "execution_count": 32,
     "metadata": {},
     "output_type": "execute_result"
    }
   ],
   "source": [
    "df['위도'] = lat_list\n",
    "df['경도'] = lng_list\n",
    "df"
   ]
  },
  {
   "cell_type": "code",
   "execution_count": 33,
   "metadata": {},
   "outputs": [
    {
     "data": {
      "text/html": [
       "<div>\n",
       "<style scoped>\n",
       "    .dataframe tbody tr th:only-of-type {\n",
       "        vertical-align: middle;\n",
       "    }\n",
       "\n",
       "    .dataframe tbody tr th {\n",
       "        vertical-align: top;\n",
       "    }\n",
       "\n",
       "    .dataframe thead th {\n",
       "        text-align: right;\n",
       "    }\n",
       "</style>\n",
       "<table border=\"1\" class=\"dataframe\">\n",
       "  <thead>\n",
       "    <tr style=\"text-align: right;\">\n",
       "      <th></th>\n",
       "      <th>이름</th>\n",
       "      <th>주소</th>\n",
       "      <th>위도</th>\n",
       "      <th>경도</th>\n",
       "    </tr>\n",
       "  </thead>\n",
       "  <tbody>\n",
       "    <tr>\n",
       "      <th>0</th>\n",
       "      <td>상동호수공원</td>\n",
       "      <td>경기도 부천시 길주로 16 (상동)</td>\n",
       "      <td>37.506124</td>\n",
       "      <td>126.744150</td>\n",
       "    </tr>\n",
       "    <tr>\n",
       "      <th>1</th>\n",
       "      <td>부평역사박물관</td>\n",
       "      <td>인천광역시 부평구 굴포로 151 (삼산동)</td>\n",
       "      <td>37.512142</td>\n",
       "      <td>126.737908</td>\n",
       "    </tr>\n",
       "    <tr>\n",
       "      <th>2</th>\n",
       "      <td>부천체육관</td>\n",
       "      <td>경기도 부천시 석천로 293 (중동)</td>\n",
       "      <td>37.512757</td>\n",
       "      <td>126.763911</td>\n",
       "    </tr>\n",
       "    <tr>\n",
       "      <th>3</th>\n",
       "      <td>상동도서관</td>\n",
       "      <td>경기도 부천시 상이로 12 (상동)</td>\n",
       "      <td>37.490140</td>\n",
       "      <td>126.744751</td>\n",
       "    </tr>\n",
       "    <tr>\n",
       "      <th>4</th>\n",
       "      <td>부개도서관</td>\n",
       "      <td>인천광역시 부평구 부일로83번길 46 (부개동)</td>\n",
       "      <td>37.491021</td>\n",
       "      <td>126.739510</td>\n",
       "    </tr>\n",
       "  </tbody>\n",
       "</table>\n",
       "</div>"
      ],
      "text/plain": [
       "        이름                          주소         위도          경도\n",
       "0   상동호수공원         경기도 부천시 길주로 16 (상동)  37.506124  126.744150\n",
       "1  부평역사박물관     인천광역시 부평구 굴포로 151 (삼산동)  37.512142  126.737908\n",
       "2    부천체육관        경기도 부천시 석천로 293 (중동)  37.512757  126.763911\n",
       "3    상동도서관         경기도 부천시 상이로 12 (상동)  37.490140  126.744751\n",
       "4    부개도서관  인천광역시 부평구 부일로83번길 46 (부개동)  37.491021  126.739510"
      ]
     },
     "execution_count": 33,
     "metadata": {},
     "output_type": "execute_result"
    }
   ],
   "source": [
    "df.to_csv('data/우리집주변2.csv', index=False)\n",
    "pd.read_csv('data/우리집주변2.csv')"
   ]
  }
 ],
 "metadata": {
  "kernelspec": {
   "display_name": "base",
   "language": "python",
   "name": "python3"
  },
  "language_info": {
   "codemirror_mode": {
    "name": "ipython",
    "version": 3
   },
   "file_extension": ".py",
   "mimetype": "text/x-python",
   "name": "python",
   "nbconvert_exporter": "python",
   "pygments_lexer": "ipython3",
   "version": "3.11.4"
  },
  "orig_nbformat": 4
 },
 "nbformat": 4,
 "nbformat_minor": 2
}
