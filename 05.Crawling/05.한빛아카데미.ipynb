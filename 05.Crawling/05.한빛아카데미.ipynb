{
 "cells": [
  {
   "cell_type": "markdown",
   "metadata": {},
   "source": [
    "## 5. 한빛 아카데미 - 새로 출간된 책\n",
    "- https://www.hanbit.co.kr/academy/books/new_book_list.html?page=1 (메인 페이지)\n",
    "  - 뒤에 page=1은 페이지 숫자를 의미, 3, 5,10 이렇게 다른 페이지 숫자를 넣을 수 있음\n",
    "- https://www.hanbit.co.kr/academy/books/book_view.html?p_code=B3261280549 (서브 페이지)\n",
    "- a href= '/academy/books/book_view.html?p_code=B3261280549' (알 수 있는 정보)\n",
    "- 제목, 저자, 출간일, 쪽수, 가격, 역자"
   ]
  },
  {
   "cell_type": "code",
   "execution_count": null,
   "metadata": {},
   "outputs": [],
   "source": []
  },
  {
   "cell_type": "code",
   "execution_count": null,
   "metadata": {},
   "outputs": [],
   "source": []
  },
  {
   "cell_type": "code",
   "execution_count": null,
   "metadata": {},
   "outputs": [],
   "source": []
  }
 ],
 "metadata": {
  "language_info": {
   "name": "python"
  },
  "orig_nbformat": 4
 },
 "nbformat": 4,
 "nbformat_minor": 2
}
