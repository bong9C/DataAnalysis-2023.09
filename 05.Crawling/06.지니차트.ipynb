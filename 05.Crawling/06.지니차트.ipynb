{
 "cells": [
  {
   "cell_type": "markdown",
   "metadata": {},
   "source": [
    "## 지니차트 Top100"
   ]
  },
  {
   "cell_type": "code",
   "execution_count": 76,
   "metadata": {},
   "outputs": [],
   "source": [
    "import requests\n",
    "import pandas as pd\n",
    "from tqdm import tqdm\n",
    "from bs4 import BeautifulSoup"
   ]
  },
  {
   "cell_type": "markdown",
   "metadata": {},
   "source": [
    "- Step 1.\n",
    "    - Url 가져오기"
   ]
  },
  {
   "cell_type": "code",
   "execution_count": 77,
   "metadata": {},
   "outputs": [],
   "source": [
    "url = 'https://www.genie.co.kr/chart/top200'\n",
    "header = {'User-Agent' : 'Mozilla/5.0 (Windows NT 10.0; Win64; x64) AppleWebKit/537.36 (KHTML, like Gecko) Chrome/117.0.0.0 Safari/537.36'}\n",
    "res = requests.get(url, headers=header)\n",
    "soup = BeautifulSoup(res.text, 'html.parser')\n"
   ]
  },
  {
   "cell_type": "code",
   "execution_count": 78,
   "metadata": {},
   "outputs": [
    {
     "data": {
      "text/plain": [
       "<span id=\"inc_date\">2013.03.06</span>"
      ]
     },
     "execution_count": 78,
     "metadata": {},
     "output_type": "execute_result"
    }
   ],
   "source": [
    "soup.select_one('#inc_date')            # 날짜 가져오기"
   ]
  },
  {
   "cell_type": "code",
   "execution_count": 79,
   "metadata": {},
   "outputs": [],
   "source": [
    "from selenium import webdriver      # 크롬을 사용하여 불러오면 현재 지니에 적용된 시간을 불러올 수 있음\n",
    "\n",
    "driver = webdriver.Chrome() \n",
    "driver.get(url)"
   ]
  },
  {
   "cell_type": "code",
   "execution_count": 80,
   "metadata": {},
   "outputs": [
    {
     "data": {
      "text/plain": [
       "<span id=\"inc_date\">2023.09.19</span>"
      ]
     },
     "execution_count": 80,
     "metadata": {},
     "output_type": "execute_result"
    }
   ],
   "source": [
    "soup = BeautifulSoup(driver.page_source, 'html.parser')\n",
    "date = soup.select_one('#inc_date')\n",
    "date\n"
   ]
  },
  {
   "cell_type": "code",
   "execution_count": 81,
   "metadata": {},
   "outputs": [
    {
     "data": {
      "text/plain": [
       "<span id=\"inc_time\">10:00</span>"
      ]
     },
     "execution_count": 81,
     "metadata": {},
     "output_type": "execute_result"
    }
   ],
   "source": [
    "\n",
    "time = soup.select_one('#inc_time')\n",
    "time"
   ]
  },
  {
   "cell_type": "markdown",
   "metadata": {},
   "source": [
    "- Step2\n",
    "    - 원하는 데이터 찾기 "
   ]
  },
  {
   "cell_type": "code",
   "execution_count": 82,
   "metadata": {},
   "outputs": [
    {
     "data": {
      "text/plain": [
       "50"
      ]
     },
     "execution_count": 82,
     "metadata": {},
     "output_type": "execute_result"
    }
   ],
   "source": [
    "trs = soup.select('tr.list')        \n",
    "len(trs)            # 한 페이지에 50개 곡"
   ]
  },
  {
   "cell_type": "markdown",
   "metadata": {},
   "source": [
    "- Step3 \n",
    "    - 하나를 선택해서 원하는 정보 추출"
   ]
  },
  {
   "cell_type": "code",
   "execution_count": 83,
   "metadata": {},
   "outputs": [
    {
     "data": {
      "text/plain": [
       "'1'"
      ]
     },
     "execution_count": 83,
     "metadata": {},
     "output_type": "execute_result"
    }
   ],
   "source": [
    "tr = trs[0]\n",
    "# '1\\n                                        \\n\n",
    "rank = tr.select_one('.number').get_text().split('\\n')[0].strip()   # '1'만 필요하기 때문에 스플릿, 스트립\n",
    "rank"
   ]
  },
  {
   "cell_type": "code",
   "execution_count": 84,
   "metadata": {},
   "outputs": [
    {
     "data": {
      "text/plain": [
       "'Love Lee'"
      ]
     },
     "execution_count": 84,
     "metadata": {},
     "output_type": "execute_result"
    }
   ],
   "source": [
    "title = tr.select_one('.albumtitle.ellipsis').get_text().strip()\n",
    "title"
   ]
  },
  {
   "cell_type": "code",
   "execution_count": 85,
   "metadata": {},
   "outputs": [
    {
     "data": {
      "text/plain": [
       "'AKMU (악뮤)'"
      ]
     },
     "execution_count": 85,
     "metadata": {},
     "output_type": "execute_result"
    }
   ],
   "source": [
    "artist = tr.select_one('.artist.ellipsis').get_text().strip()\n",
    "artist"
   ]
  },
  {
   "cell_type": "code",
   "execution_count": 86,
   "metadata": {},
   "outputs": [
    {
     "data": {
      "text/plain": [
       "'Love Lee'"
      ]
     },
     "execution_count": 86,
     "metadata": {},
     "output_type": "execute_result"
    }
   ],
   "source": [
    "album = tr.select_one('.albumtitle.ellipsis').get_text().strip()\n",
    "album"
   ]
  },
  {
   "cell_type": "code",
   "execution_count": 87,
   "metadata": {},
   "outputs": [
    {
     "data": {
      "text/plain": [
       "'//image.genie.co.kr/Y/IMAGE/IMG_ALBUM/084/181/610/84181610_1692585955705_1_140x140.JPG/dims/resize/Q_80,0'"
      ]
     },
     "execution_count": 87,
     "metadata": {},
     "output_type": "execute_result"
    }
   ],
   "source": [
    "img = tr.select_one('tr > td:nth-child(3) > a > img')['src']\n",
    "img"
   ]
  },
  {
   "cell_type": "markdown",
   "metadata": {},
   "source": [
    "- Step4 "
   ]
  },
  {
   "cell_type": "code",
   "execution_count": 88,
   "metadata": {},
   "outputs": [],
   "source": [
    "data = []\n",
    "for tr in trs:\n",
    "    rank = tr.select_one('.number').get_text().split('\\n')[0].strip()\n",
    "    title = tr.select_one('.albumtitle.ellipsis').get_text().strip()\n",
    "    artist = tr.select_one('.artist.ellipsis').get_text().strip()\n",
    "    album = tr.select_one('.albumtitle.ellipsis').get_text().strip()\n",
    "    img = tr.select_one('tr > td:nth-child(3) > a > img')['src']\n",
    "    data.append({'순위':rank, '제목':title, '아티스트':artist, '앨범':album, '이미지':img})"
   ]
  },
  {
   "cell_type": "markdown",
   "metadata": {},
   "source": [
    "- Step 5: 생략"
   ]
  },
  {
   "cell_type": "markdown",
   "metadata": {},
   "source": [
    "- Step 6 \n",
    "    - 1페이지부터 5페이지까지 출력 ( 반복문 사용 )"
   ]
  },
  {
   "cell_type": "code",
   "execution_count": 89,
   "metadata": {},
   "outputs": [
    {
     "name": "stderr",
     "output_type": "stream",
     "text": [
      "100%|██████████| 4/4 [00:02<00:00,  1.47it/s]\n"
     ]
    }
   ],
   "source": [
    "data = []\n",
    "for page in tqdm(range(1,5)):\n",
    "    header = {'User-Agent' : 'Mozilla/5.0 (Windows NT 10.0; Win64; x64) AppleWebKit/537.36 (KHTML, like Gecko) Chrome/117.0.0.0 Safari/537.36'}\n",
    "    url = f'https://www.genie.co.kr/chart/top200?ditc=D&ymd={date}&hh={time}&rtm=Y&pg={page}'\n",
    "    res = requests.get(url, headers=header)\n",
    "    soup = BeautifulSoup(res.text, 'html.parser')\n",
    "    trs = soup.select('tr.list') \n",
    "\n",
    "    for tr in trs:\n",
    "        rank = tr.select_one('.number').get_text().split('\\n')[0].strip()\n",
    "        title = tr.select_one('.albumtitle.ellipsis').get_text().strip()\n",
    "        artist = tr.select_one('.artist.ellipsis').get_text().strip()\n",
    "        album = tr.select_one('.albumtitle.ellipsis').get_text().strip()\n",
    "        img = tr.select_one('tr > td:nth-child(3) > a > img')['src']\n",
    "        data.append({'순위':rank, '제목':title, '아티스트':artist, '앨범':album, '이미지':img})\n",
    "\n"
   ]
  },
  {
   "cell_type": "markdown",
   "metadata": {},
   "source": [
    "- Step 7"
   ]
  },
  {
   "cell_type": "code",
   "execution_count": 90,
   "metadata": {},
   "outputs": [
    {
     "data": {
      "text/html": [
       "<div>\n",
       "<style scoped>\n",
       "    .dataframe tbody tr th:only-of-type {\n",
       "        vertical-align: middle;\n",
       "    }\n",
       "\n",
       "    .dataframe tbody tr th {\n",
       "        vertical-align: top;\n",
       "    }\n",
       "\n",
       "    .dataframe thead th {\n",
       "        text-align: right;\n",
       "    }\n",
       "</style>\n",
       "<table border=\"1\" class=\"dataframe\">\n",
       "  <thead>\n",
       "    <tr style=\"text-align: right;\">\n",
       "      <th></th>\n",
       "      <th>순위</th>\n",
       "      <th>제목</th>\n",
       "      <th>아티스트</th>\n",
       "      <th>앨범</th>\n",
       "      <th>이미지</th>\n",
       "    </tr>\n",
       "  </thead>\n",
       "  <tbody>\n",
       "    <tr>\n",
       "      <th>0</th>\n",
       "      <td>1</td>\n",
       "      <td>Love Lee</td>\n",
       "      <td>AKMU (악뮤)</td>\n",
       "      <td>Love Lee</td>\n",
       "      <td>//image.genie.co.kr/Y/IMAGE/IMG_ALBUM/084/181/...</td>\n",
       "    </tr>\n",
       "    <tr>\n",
       "      <th>1</th>\n",
       "      <td>2</td>\n",
       "      <td>스트릿 우먼 파이터2 (SWF2) 계급미션</td>\n",
       "      <td>다이나믹 듀오 &amp; 이영지</td>\n",
       "      <td>스트릿 우먼 파이터2 (SWF2) 계급미션</td>\n",
       "      <td>//image.genie.co.kr/Y/IMAGE/IMG_ALBUM/084/193/...</td>\n",
       "    </tr>\n",
       "    <tr>\n",
       "      <th>2</th>\n",
       "      <td>3</td>\n",
       "      <td>Love Lee</td>\n",
       "      <td>AKMU (악뮤)</td>\n",
       "      <td>Love Lee</td>\n",
       "      <td>//image.genie.co.kr/Y/IMAGE/IMG_ALBUM/084/181/...</td>\n",
       "    </tr>\n",
       "    <tr>\n",
       "      <th>3</th>\n",
       "      <td>4</td>\n",
       "      <td>NewJeans 2nd EP 'Get Up'</td>\n",
       "      <td>NewJeans</td>\n",
       "      <td>NewJeans 2nd EP 'Get Up'</td>\n",
       "      <td>//image.genie.co.kr/Y/IMAGE/IMG_ALBUM/084/019/...</td>\n",
       "    </tr>\n",
       "    <tr>\n",
       "      <th>4</th>\n",
       "      <td>5</td>\n",
       "      <td>Seven (Clean Ver.)</td>\n",
       "      <td>정국</td>\n",
       "      <td>Seven (Clean Ver.)</td>\n",
       "      <td>//image.genie.co.kr/Y/IMAGE/IMG_ALBUM/084/048/...</td>\n",
       "    </tr>\n",
       "    <tr>\n",
       "      <th>...</th>\n",
       "      <td>...</td>\n",
       "      <td>...</td>\n",
       "      <td>...</td>\n",
       "      <td>...</td>\n",
       "      <td>...</td>\n",
       "    </tr>\n",
       "    <tr>\n",
       "      <th>195</th>\n",
       "      <td>196</td>\n",
       "      <td>In The Lonely Hour (Standard Edition)</td>\n",
       "      <td>Sam Smith</td>\n",
       "      <td>In The Lonely Hour (Standard Edition)</td>\n",
       "      <td>//image.genie.co.kr/Y/IMAGE/IMG_ALBUM/080/437/...</td>\n",
       "    </tr>\n",
       "    <tr>\n",
       "      <th>196</th>\n",
       "      <td>197</td>\n",
       "      <td>혼자라고 생각말기</td>\n",
       "      <td>임한별</td>\n",
       "      <td>혼자라고 생각말기</td>\n",
       "      <td>//image.genie.co.kr/Y/IMAGE/IMG_ALBUM/083/900/...</td>\n",
       "    </tr>\n",
       "    <tr>\n",
       "      <th>197</th>\n",
       "      <td>198</td>\n",
       "      <td>Take</td>\n",
       "      <td>숀 (SHAUN)</td>\n",
       "      <td>Take</td>\n",
       "      <td>//image.genie.co.kr/Y/IMAGE/IMG_ALBUM/081/078/...</td>\n",
       "    </tr>\n",
       "    <tr>\n",
       "      <th>198</th>\n",
       "      <td>199</td>\n",
       "      <td>Get A Guitar</td>\n",
       "      <td>RIIZE</td>\n",
       "      <td>Get A Guitar</td>\n",
       "      <td>//image.genie.co.kr/Y/IMAGE/IMG_ALBUM/084/181/...</td>\n",
       "    </tr>\n",
       "    <tr>\n",
       "      <th>199</th>\n",
       "      <td>200</td>\n",
       "      <td>사랑이라 쓰고 이별이라 읽어</td>\n",
       "      <td>송하예</td>\n",
       "      <td>사랑이라 쓰고 이별이라 읽어</td>\n",
       "      <td>//image.genie.co.kr/Y/IMAGE/IMG_ALBUM/084/245/...</td>\n",
       "    </tr>\n",
       "  </tbody>\n",
       "</table>\n",
       "<p>200 rows × 5 columns</p>\n",
       "</div>"
      ],
      "text/plain": [
       "      순위                                     제목           아티스트  \\\n",
       "0      1                               Love Lee      AKMU (악뮤)   \n",
       "1      2                스트릿 우먼 파이터2 (SWF2) 계급미션  다이나믹 듀오 & 이영지   \n",
       "2      3                               Love Lee      AKMU (악뮤)   \n",
       "3      4               NewJeans 2nd EP 'Get Up'       NewJeans   \n",
       "4      5                     Seven (Clean Ver.)             정국   \n",
       "..   ...                                    ...            ...   \n",
       "195  196  In The Lonely Hour (Standard Edition)      Sam Smith   \n",
       "196  197                              혼자라고 생각말기            임한별   \n",
       "197  198                                   Take      숀 (SHAUN)   \n",
       "198  199                           Get A Guitar          RIIZE   \n",
       "199  200                        사랑이라 쓰고 이별이라 읽어            송하예   \n",
       "\n",
       "                                        앨범  \\\n",
       "0                                 Love Lee   \n",
       "1                  스트릿 우먼 파이터2 (SWF2) 계급미션   \n",
       "2                                 Love Lee   \n",
       "3                 NewJeans 2nd EP 'Get Up'   \n",
       "4                       Seven (Clean Ver.)   \n",
       "..                                     ...   \n",
       "195  In The Lonely Hour (Standard Edition)   \n",
       "196                              혼자라고 생각말기   \n",
       "197                                   Take   \n",
       "198                           Get A Guitar   \n",
       "199                        사랑이라 쓰고 이별이라 읽어   \n",
       "\n",
       "                                                   이미지  \n",
       "0    //image.genie.co.kr/Y/IMAGE/IMG_ALBUM/084/181/...  \n",
       "1    //image.genie.co.kr/Y/IMAGE/IMG_ALBUM/084/193/...  \n",
       "2    //image.genie.co.kr/Y/IMAGE/IMG_ALBUM/084/181/...  \n",
       "3    //image.genie.co.kr/Y/IMAGE/IMG_ALBUM/084/019/...  \n",
       "4    //image.genie.co.kr/Y/IMAGE/IMG_ALBUM/084/048/...  \n",
       "..                                                 ...  \n",
       "195  //image.genie.co.kr/Y/IMAGE/IMG_ALBUM/080/437/...  \n",
       "196  //image.genie.co.kr/Y/IMAGE/IMG_ALBUM/083/900/...  \n",
       "197  //image.genie.co.kr/Y/IMAGE/IMG_ALBUM/081/078/...  \n",
       "198  //image.genie.co.kr/Y/IMAGE/IMG_ALBUM/084/181/...  \n",
       "199  //image.genie.co.kr/Y/IMAGE/IMG_ALBUM/084/245/...  \n",
       "\n",
       "[200 rows x 5 columns]"
      ]
     },
     "execution_count": 90,
     "metadata": {},
     "output_type": "execute_result"
    }
   ],
   "source": [
    "df = pd.DataFrame(data)\n",
    "df"
   ]
  },
  {
   "cell_type": "code",
   "execution_count": 91,
   "metadata": {},
   "outputs": [
    {
     "data": {
      "text/plain": [
       "'202309191000.csv'"
      ]
     },
     "execution_count": 91,
     "metadata": {},
     "output_type": "execute_result"
    }
   ],
   "source": [
    "date = date.string.replace('.','')\n",
    "time = time.string.replace(':','')\n",
    "filename = date + time + '.csv'\n",
    "filename"
   ]
  },
  {
   "cell_type": "code",
   "execution_count": 94,
   "metadata": {},
   "outputs": [
    {
     "data": {
      "text/html": [
       "<div>\n",
       "<style scoped>\n",
       "    .dataframe tbody tr th:only-of-type {\n",
       "        vertical-align: middle;\n",
       "    }\n",
       "\n",
       "    .dataframe tbody tr th {\n",
       "        vertical-align: top;\n",
       "    }\n",
       "\n",
       "    .dataframe thead th {\n",
       "        text-align: right;\n",
       "    }\n",
       "</style>\n",
       "<table border=\"1\" class=\"dataframe\">\n",
       "  <thead>\n",
       "    <tr style=\"text-align: right;\">\n",
       "      <th></th>\n",
       "      <th>순위</th>\n",
       "      <th>제목</th>\n",
       "      <th>아티스트</th>\n",
       "      <th>앨범</th>\n",
       "      <th>이미지</th>\n",
       "    </tr>\n",
       "  </thead>\n",
       "  <tbody>\n",
       "    <tr>\n",
       "      <th>195</th>\n",
       "      <td>196</td>\n",
       "      <td>In The Lonely Hour (Standard Edition)</td>\n",
       "      <td>Sam Smith</td>\n",
       "      <td>In The Lonely Hour (Standard Edition)</td>\n",
       "      <td>//image.genie.co.kr/Y/IMAGE/IMG_ALBUM/080/437/...</td>\n",
       "    </tr>\n",
       "    <tr>\n",
       "      <th>196</th>\n",
       "      <td>197</td>\n",
       "      <td>혼자라고 생각말기</td>\n",
       "      <td>임한별</td>\n",
       "      <td>혼자라고 생각말기</td>\n",
       "      <td>//image.genie.co.kr/Y/IMAGE/IMG_ALBUM/083/900/...</td>\n",
       "    </tr>\n",
       "    <tr>\n",
       "      <th>197</th>\n",
       "      <td>198</td>\n",
       "      <td>Take</td>\n",
       "      <td>숀 (SHAUN)</td>\n",
       "      <td>Take</td>\n",
       "      <td>//image.genie.co.kr/Y/IMAGE/IMG_ALBUM/081/078/...</td>\n",
       "    </tr>\n",
       "    <tr>\n",
       "      <th>198</th>\n",
       "      <td>199</td>\n",
       "      <td>Get A Guitar</td>\n",
       "      <td>RIIZE</td>\n",
       "      <td>Get A Guitar</td>\n",
       "      <td>//image.genie.co.kr/Y/IMAGE/IMG_ALBUM/084/181/...</td>\n",
       "    </tr>\n",
       "    <tr>\n",
       "      <th>199</th>\n",
       "      <td>200</td>\n",
       "      <td>사랑이라 쓰고 이별이라 읽어</td>\n",
       "      <td>송하예</td>\n",
       "      <td>사랑이라 쓰고 이별이라 읽어</td>\n",
       "      <td>//image.genie.co.kr/Y/IMAGE/IMG_ALBUM/084/245/...</td>\n",
       "    </tr>\n",
       "  </tbody>\n",
       "</table>\n",
       "</div>"
      ],
      "text/plain": [
       "      순위                                     제목       아티스트  \\\n",
       "195  196  In The Lonely Hour (Standard Edition)  Sam Smith   \n",
       "196  197                              혼자라고 생각말기        임한별   \n",
       "197  198                                   Take  숀 (SHAUN)   \n",
       "198  199                           Get A Guitar      RIIZE   \n",
       "199  200                        사랑이라 쓰고 이별이라 읽어        송하예   \n",
       "\n",
       "                                        앨범  \\\n",
       "195  In The Lonely Hour (Standard Edition)   \n",
       "196                              혼자라고 생각말기   \n",
       "197                                   Take   \n",
       "198                           Get A Guitar   \n",
       "199                        사랑이라 쓰고 이별이라 읽어   \n",
       "\n",
       "                                                   이미지  \n",
       "195  //image.genie.co.kr/Y/IMAGE/IMG_ALBUM/080/437/...  \n",
       "196  //image.genie.co.kr/Y/IMAGE/IMG_ALBUM/083/900/...  \n",
       "197  //image.genie.co.kr/Y/IMAGE/IMG_ALBUM/081/078/...  \n",
       "198  //image.genie.co.kr/Y/IMAGE/IMG_ALBUM/084/181/...  \n",
       "199  //image.genie.co.kr/Y/IMAGE/IMG_ALBUM/084/245/...  "
      ]
     },
     "execution_count": 94,
     "metadata": {},
     "output_type": "execute_result"
    }
   ],
   "source": [
    "df.to_csv('data/지니차트TOP200_'+filename, index=False)\n",
    "pd.read_csv('data/지니차트TOP200_'+filename).tail()"
   ]
  }
 ],
 "metadata": {
  "kernelspec": {
   "display_name": "base",
   "language": "python",
   "name": "python3"
  },
  "language_info": {
   "codemirror_mode": {
    "name": "ipython",
    "version": 3
   },
   "file_extension": ".py",
   "mimetype": "text/x-python",
   "name": "python",
   "nbconvert_exporter": "python",
   "pygments_lexer": "ipython3",
   "version": "3.11.4"
  },
  "orig_nbformat": 4
 },
 "nbformat": 4,
 "nbformat_minor": 2
}
