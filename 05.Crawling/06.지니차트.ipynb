{
 "cells": [
  {
   "cell_type": "markdown",
   "metadata": {},
   "source": [
    "## 지니차트 Top100"
   ]
  },
  {
   "cell_type": "code",
   "execution_count": 91,
   "metadata": {},
   "outputs": [],
   "source": [
    "import requests\n",
    "import pandas as pd\n",
    "from tqdm import tqdm\n",
    "from datetime import datetime as dt\n",
    "from bs4 import BeautifulSoup"
   ]
  },
  {
   "cell_type": "code",
   "execution_count": 75,
   "metadata": {},
   "outputs": [
    {
     "data": {
      "text/plain": [
       "'<br>\\r\\n<br>\\r\\n<center>\\r\\n<br>\\r\\n<h2> <meta http-equiv=\"Content-Type\" content=\"text/html;charset=UTF-8\"> ì\\xa0\\x91ì\\x86\\x8dì\\x9a\\x94ì²\\xadì\\x9d´ ë³´ì\\x95\\x88ì\\xa0\\x95ì±\\x85ì\\x97\\x90 ì\\x9d\\x98í\\x95´ ì°¨ë\\x8b¨ë\\x90\\x98ì\\x97\\x88ì\\x8aµë\\x8b\\x88ë\\x8b¤. ë\\x8b¹ì\\x82¬ ê³\\xa0ê°\\x9dì\\x84¼í\\x84°ë¡\\x9c ë¬¸ì\\x9d\\x98í\\x95´ì£¼ì\\x8b\\xadì\\x8b\\x9cì\\x98¤.<br><br>\\r\\nThe security policy of the connection request is blocked. Contact your customer service representative.<br><br>\\r\\nì§\\x80ë\\x8b\\x88ë®¤ì§\\x81 ê³\\xa0ê°\\x9dì\\x84¼í\\x84° 1577-5337<br><br>\\r\\n</h2>\\r\\n</center>\\r\\n<br>'"
      ]
     },
     "execution_count": 75,
     "metadata": {},
     "output_type": "execute_result"
    }
   ],
   "source": [
    "url = 'https://www.genie.co.kr/chart/top200'\n",
    "res = requests.get(url)\n",
    "res.text"
   ]
  },
  {
   "cell_type": "code",
   "execution_count": 76,
   "metadata": {},
   "outputs": [
    {
     "data": {
      "text/plain": [
       "'\\r\\n\\r\\n\\r\\n\\r\\n\\r\\n\\r\\n<!DOCTYPE html>\\r\\n<html lang=\"ko\">\\r\\n<head>\\r\\n\\t\\n\\n\\n\\n\\n<meta http-equiv=\"X-UA-Compatible\" content=\"IE=edge\" />\\n<!--[if lte IE 6]><html dir=\"ltr\" class=\"no-js ie6\"><![endif]-->\\n<!--[if lte IE 7]><html dir=\"ltr\" class=\"no-js ie7\"><![endif]-->\\n<!--[if IE 8]><html dir=\"ltr\" class=\"no-js ie8\"><![endif]-->\\n<!--[if IE 9]><html dir=\"ltr\" class=\"no-js ie9\"><![endif]-->\\n<!--[if (gte IE 10)|!(IE)]><!--><html dir=\"ltr\" class=\"no-js\"><!--<![endif]-->\\n<title>음악, 그리고 설레임 - 지니</title>\\n<meta charset=\"utf-8'"
      ]
     },
     "execution_count": 76,
     "metadata": {},
     "output_type": "execute_result"
    }
   ],
   "source": [
    "header = {'User-Agent' : 'Mozilla/5.0 (Windows NT 10.0; Win64; x64) AppleWebKit/537.36 (KHTML, like Gecko) Chrome/117.0.0.0 Safari/537.36'}\n",
    "res = requests.get(url, headers=header)\n",
    "res.text[:500]"
   ]
  },
  {
   "cell_type": "code",
   "execution_count": 77,
   "metadata": {},
   "outputs": [],
   "source": [
    "soup = BeautifulSoup(res.text, 'html.parser')"
   ]
  },
  {
   "cell_type": "markdown",
   "metadata": {},
   "source": [
    "- 원하는 데이터 찾기"
   ]
  },
  {
   "cell_type": "code",
   "execution_count": 92,
   "metadata": {},
   "outputs": [
    {
     "ename": "AttributeError",
     "evalue": "'Response' object has no attribute 'now'",
     "output_type": "error",
     "traceback": [
      "\u001b[1;31m---------------------------------------------------------------------------\u001b[0m",
      "\u001b[1;31mAttributeError\u001b[0m                            Traceback (most recent call last)",
      "\u001b[1;32md:\\WorkSpace\\02.DataAnalysis\\05.Crawling\\06.지니차트.ipynb 셀 7\u001b[0m line \u001b[0;36m1\n\u001b[1;32m----> <a href='vscode-notebook-cell:/d%3A/WorkSpace/02.DataAnalysis/05.Crawling/06.%EC%A7%80%EB%8B%88%EC%B0%A8%ED%8A%B8.ipynb#W6sZmlsZQ%3D%3D?line=0'>1</a>\u001b[0m now\u001b[39m=\u001b[39mres\u001b[39m.\u001b[39mnow()\n\u001b[0;32m      <a href='vscode-notebook-cell:/d%3A/WorkSpace/02.DataAnalysis/05.Crawling/06.%EC%A7%80%EB%8B%88%EC%B0%A8%ED%8A%B8.ipynb#W6sZmlsZQ%3D%3D?line=1'>2</a>\u001b[0m date_str \u001b[39m=\u001b[39m now\u001b[39m.\u001b[39mstrftime(\u001b[39m'\u001b[39m\u001b[39m%\u001b[39m\u001b[39mY\u001b[39m\u001b[39m%\u001b[39m\u001b[39mm\u001b[39m\u001b[39m%d\u001b[39;00m\u001b[39m'\u001b[39m)\n\u001b[0;32m      <a href='vscode-notebook-cell:/d%3A/WorkSpace/02.DataAnalysis/05.Crawling/06.%EC%A7%80%EB%8B%88%EC%B0%A8%ED%8A%B8.ipynb#W6sZmlsZQ%3D%3D?line=2'>3</a>\u001b[0m hour \u001b[39m=\u001b[39m now\u001b[39m.\u001b[39mstrftime(\u001b[39m'\u001b[39m\u001b[39m%\u001b[39m\u001b[39mH\u001b[39m\u001b[39m'\u001b[39m)\n",
      "\u001b[1;31mAttributeError\u001b[0m: 'Response' object has no attribute 'now'"
     ]
    }
   ],
   "source": [
    "now=res.now()\n",
    "date_str = now.strftime('%Y%m%d')\n",
    "hour = now.strftime('%H')\n",
    "date_str"
   ]
  },
  {
   "cell_type": "code",
   "execution_count": 79,
   "metadata": {},
   "outputs": [
    {
     "data": {
      "text/plain": [
       "148"
      ]
     },
     "execution_count": 79,
     "metadata": {},
     "output_type": "execute_result"
    }
   ],
   "source": [
    "gini = soup.select('.list')\n",
    "len(gini)"
   ]
  },
  {
   "cell_type": "code",
   "execution_count": 80,
   "metadata": {},
   "outputs": [],
   "source": [
    "trs = soup.select('#body-content > div.newest-list > div > table > tbody > tr')"
   ]
  },
  {
   "cell_type": "markdown",
   "metadata": {},
   "source": [
    "- 하나를 선택해서 원하는 정보 추출"
   ]
  },
  {
   "cell_type": "code",
   "execution_count": 81,
   "metadata": {},
   "outputs": [],
   "source": [
    "tr = trs[0]\n",
    "rank = tr.select_one('td.number').text[0:2].strip()"
   ]
  },
  {
   "cell_type": "code",
   "execution_count": 82,
   "metadata": {},
   "outputs": [
    {
     "data": {
      "text/plain": [
       "'Love Lee'"
      ]
     },
     "execution_count": 82,
     "metadata": {},
     "output_type": "execute_result"
    }
   ],
   "source": [
    "title = tr.select_one('.albumtitle.ellipsis').get_text().strip()\n",
    "title"
   ]
  },
  {
   "cell_type": "code",
   "execution_count": 83,
   "metadata": {},
   "outputs": [
    {
     "data": {
      "text/plain": [
       "'AKMU (악뮤)'"
      ]
     },
     "execution_count": 83,
     "metadata": {},
     "output_type": "execute_result"
    }
   ],
   "source": [
    "artist = tr.select_one('.artist.ellipsis').get_text().strip()\n",
    "artist"
   ]
  },
  {
   "cell_type": "code",
   "execution_count": 84,
   "metadata": {},
   "outputs": [
    {
     "data": {
      "text/plain": [
       "'Love Lee'"
      ]
     },
     "execution_count": 84,
     "metadata": {},
     "output_type": "execute_result"
    }
   ],
   "source": [
    "album = tr.select_one('.albumtitle.ellipsis').get_text().strip()\n",
    "album"
   ]
  },
  {
   "cell_type": "code",
   "execution_count": 85,
   "metadata": {},
   "outputs": [
    {
     "data": {
      "text/plain": [
       "'//image.genie.co.kr/Y/IMAGE/IMG_ALBUM/084/181/610/84181610_1692585955705_1_140x140.JPG/dims/resize/Q_80,0'"
      ]
     },
     "execution_count": 85,
     "metadata": {},
     "output_type": "execute_result"
    }
   ],
   "source": [
    "img = tr.select_one('tr > td:nth-child(3) > a > img')['src']\n",
    "img"
   ]
  },
  {
   "cell_type": "code",
   "execution_count": 86,
   "metadata": {},
   "outputs": [
    {
     "name": "stderr",
     "output_type": "stream",
     "text": [
      "100%|██████████| 4/4 [00:00<00:00, 29.30it/s]\n"
     ]
    }
   ],
   "source": [
    "data = []\n",
    "for page in tqdm(range(1,5)):\n",
    "    url = f'{url}?page={page}'\n",
    "    res = requests.get(url)\n",
    "    soup = BeautifulSoup(res.text, 'html.parser')\n",
    "    gini = soup.select('.list')\n",
    "\n",
    "for tr in gini:\n",
    "    date_str = soup.select_one('.date').get_text().strip()\n",
    "    gini = soup.select('.list')\n",
    "    trs = soup.select('#body-content > div.newest-list > div > table > tbody > tr')\n",
    "    rank = tr.select_one('td.number').text[0:2].strip()\n",
    "    title = tr.select_one('.albumtitle.ellipsis').get_text().strip()\n",
    "    artist = tr.select_one('.artist.ellipsis').get_text().strip()\n",
    "    album = tr.select_one('.albumtitle.ellipsis').get_text().strip()\n",
    "    img = tr.select_one('tr > td:nth-child(3) > a > img')['src']\n",
    "    data.append({'순위':rank, '제목':title, '아티스트':artist, '앨범':album, '이미지':img})"
   ]
  },
  {
   "cell_type": "code",
   "execution_count": 87,
   "metadata": {},
   "outputs": [
    {
     "data": {
      "text/html": [
       "<div>\n",
       "<style scoped>\n",
       "    .dataframe tbody tr th:only-of-type {\n",
       "        vertical-align: middle;\n",
       "    }\n",
       "\n",
       "    .dataframe tbody tr th {\n",
       "        vertical-align: top;\n",
       "    }\n",
       "\n",
       "    .dataframe thead th {\n",
       "        text-align: right;\n",
       "    }\n",
       "</style>\n",
       "<table border=\"1\" class=\"dataframe\">\n",
       "  <thead>\n",
       "    <tr style=\"text-align: right;\">\n",
       "      <th></th>\n",
       "    </tr>\n",
       "  </thead>\n",
       "  <tbody>\n",
       "  </tbody>\n",
       "</table>\n",
       "</div>"
      ],
      "text/plain": [
       "Empty DataFrame\n",
       "Columns: []\n",
       "Index: []"
      ]
     },
     "execution_count": 87,
     "metadata": {},
     "output_type": "execute_result"
    }
   ],
   "source": [
    "gini = pd.DataFrame(data)\n",
    "gini"
   ]
  }
 ],
 "metadata": {
  "kernelspec": {
   "display_name": "base",
   "language": "python",
   "name": "python3"
  },
  "language_info": {
   "codemirror_mode": {
    "name": "ipython",
    "version": 3
   },
   "file_extension": ".py",
   "mimetype": "text/x-python",
   "name": "python",
   "nbconvert_exporter": "python",
   "pygments_lexer": "ipython3",
   "version": "3.11.4"
  },
  "orig_nbformat": 4
 },
 "nbformat": 4,
 "nbformat_minor": 2
}
