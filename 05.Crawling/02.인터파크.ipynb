{
 "cells": [
  {
   "cell_type": "markdown",
   "metadata": {},
   "source": [
    "## 인터파크 - 베스트 셀러 "
   ]
  },
  {
   "cell_type": "code",
   "execution_count": 128,
   "metadata": {},
   "outputs": [],
   "source": [
    "import requests\n",
    "import pandas as pd\n",
    "from tqdm import tqdm\n",
    "from bs4 import BeautifulSoup"
   ]
  },
  {
   "cell_type": "markdown",
   "metadata": {},
   "source": [
    "- Step 1) 사이트에 접속하고 HTML 데이터를 가져와 파싱"
   ]
  },
  {
   "cell_type": "code",
   "execution_count": 129,
   "metadata": {},
   "outputs": [],
   "source": [
    "url = 'http://book.interpark.com/display/collectlist.do?_method=bestsellerHourNew&bookblockname=b_gnb&booklinkname=%BA%A3%BD%BA%C6%AE%C1%B8&bid1=w_bgnb&bid2=LiveRanking&bid3=main&bid4=001#'\n",
    "res = requests.get(url)\n",
    "soup = BeautifulSoup(res.text, 'html.parser')"
   ]
  },
  {
   "cell_type": "code",
   "execution_count": 130,
   "metadata": {},
   "outputs": [
    {
     "name": "stdout",
     "output_type": "stream",
     "text": [
      "\n",
      "\n",
      "\n",
      "<!DOCTYPE html>\n",
      "<html lang=\"ko\">\n",
      "<head>\n",
      "\n",
      " \n",
      "\n",
      "    <title>인터파크 도서</title>\n",
      "    <meta http-equiv=\"Content-Type\" content=\"text/html; charset=euc-kr\">\n",
      "    <meta http-equiv=\"X-UA-Compatible\" content=\"IE=edge,chrome=1\">\n",
      "    <meta name=\"keywords\" content=\"인터파크도서, 인터넷 서점, eBook, 비스킷탭, 음반, DVD, 중고책, 중고책서점, 신간도서, 국내도서, 외국도서, 추천도서\">\n",
      "    <meta name=\"description\" content=\"문학은 인터파크 도서!\">\n",
      "    <meta http-equiv=\"Cache-Control\" content=\"no-cache\"/>\n",
      "    <meta http-equiv=\"Expires\" content=\"0\"/>\n",
      "    <meta http-equiv=\"Pragma\" content=\"no-cache\"/>\n",
      "    <link rel=\"shortcut icon\" href=\"http://qi-b.qoo10cdn.com/interpark.ico\">\n",
      "    <meta http-equiv=\"imagetoolbar\" content=\"no\"/>\n",
      "    <meta name=\"naver-site-verification\" content=\"295287bf1753708aabe3586a6cbb4b39761ff03b\" />\n",
      "    <script type=\"text/javascript\">\n",
      "        var isFancyAlert = false;    // IMFS에서는 msgAlert 기능을 비활성화시킴\n",
      "        var imfsSSLDomain = \"https://book.interpark.com\"; // com.interpark.util.web.ServletUtils.IMFS_URL_SSL 값을 사용하였으나,\n"
     ]
    }
   ],
   "source": [
    "print(res.text[:1000])"
   ]
  },
  {
   "cell_type": "markdown",
   "metadata": {},
   "source": [
    "- Step 2) 원하는 데이터 찾기"
   ]
  },
  {
   "cell_type": "code",
   "execution_count": 131,
   "metadata": {},
   "outputs": [
    {
     "data": {
      "text/plain": [
       "15"
      ]
     },
     "execution_count": 131,
     "metadata": {},
     "output_type": "execute_result"
    }
   ],
   "source": [
    "lis = soup.select('.rankBestContentList > ol > li')\n",
    "len(lis)"
   ]
  },
  {
   "cell_type": "markdown",
   "metadata": {},
   "source": [
    "- Step 3) 하나를 선택해서 원하는 정보 추출"
   ]
  },
  {
   "cell_type": "code",
   "execution_count": 132,
   "metadata": {},
   "outputs": [],
   "source": [
    "li = lis[0]"
   ]
  },
  {
   "cell_type": "code",
   "execution_count": 133,
   "metadata": {},
   "outputs": [
    {
     "data": {
      "text/plain": [
       "'도시와 그 불확실한 벽'"
      ]
     },
     "execution_count": 133,
     "metadata": {},
     "output_type": "execute_result"
    }
   ],
   "source": [
    "# 책 제목\n",
    "title = li.select_one('.itemName').get_text().strip()\n",
    "title"
   ]
  },
  {
   "cell_type": "code",
   "execution_count": 134,
   "metadata": {},
   "outputs": [
    {
     "data": {
      "text/plain": [
       "'무라카미 하루키(村上春樹)'"
      ]
     },
     "execution_count": 134,
     "metadata": {},
     "output_type": "execute_result"
    }
   ],
   "source": [
    "# 저자 \n",
    "author = li.select_one('.author').get_text().strip()\n",
    "author"
   ]
  },
  {
   "cell_type": "code",
   "execution_count": 135,
   "metadata": {},
   "outputs": [
    {
     "data": {
      "text/plain": [
       "'문학동네'"
      ]
     },
     "execution_count": 135,
     "metadata": {},
     "output_type": "execute_result"
    }
   ],
   "source": [
    "# 출판사\n",
    "company = li.select_one('.company').get_text().strip()\n",
    "company"
   ]
  },
  {
   "cell_type": "code",
   "execution_count": 136,
   "metadata": {},
   "outputs": [
    {
     "data": {
      "text/plain": [
       "17550"
      ]
     },
     "execution_count": 136,
     "metadata": {},
     "output_type": "execute_result"
    }
   ],
   "source": [
    "# 가격 \n",
    "price = li.select_one('.price > em').get_text().strip()\n",
    "price = int(price.replace(',',''))\n",
    "price"
   ]
  },
  {
   "cell_type": "code",
   "execution_count": 137,
   "metadata": {},
   "outputs": [],
   "source": [
    "img = li.select_one('.cover > a > img')\n",
    "img\n"
   ]
  },
  {
   "cell_type": "code",
   "execution_count": 138,
   "metadata": {},
   "outputs": [
    {
     "data": {
      "text/plain": [
       "'\\n<div class=\"rankNumber digit2\">\\n    <span class=\"rankBtn_ctrl rkNum_B06 \"></span>\\n</div>\\n\\n<div class=\"rankNumber digit2\">\\n    <span class=\"rankBtn_ctrl rkNum_M01 \"></span>\\n    <span class=\"rankBtn_ctrl rkNum_M00 \"></span>\\n</div>\\n'"
      ]
     },
     "execution_count": 138,
     "metadata": {},
     "output_type": "execute_result"
    }
   ],
   "source": [
    "# 순위\n",
    "\"\"\"\n",
    "<div class=\"rankNumber digit2\">\n",
    "    <span class=\"rankBtn_ctrl rkNum_B06 \"></span>\n",
    "</div>\n",
    "\n",
    "<div class=\"rankNumber digit2\">\n",
    "    <span class=\"rankBtn_ctrl rkNum_M01 \"></span>\n",
    "    <span class=\"rankBtn_ctrl rkNum_M00 \"></span>\n",
    "</div>\n",
    "\"\"\""
   ]
  },
  {
   "cell_type": "code",
   "execution_count": 139,
   "metadata": {},
   "outputs": [
    {
     "data": {
      "text/plain": [
       "['rankBtn_ctrl', 'rkNum_B07']"
      ]
     },
     "execution_count": 139,
     "metadata": {},
     "output_type": "execute_result"
    }
   ],
   "source": [
    "rank_data = lis[6].select('.rankBtn_ctrl')\n",
    "rank_data[0]['class']"
   ]
  },
  {
   "cell_type": "code",
   "execution_count": 140,
   "metadata": {},
   "outputs": [],
   "source": [
    "if len(rank_data) == 1:\n",
    "   rank = rank_data [0]['class'][1][-1]\n",
    "else:\n",
    "   rank = rank_data [0]['class'][1][-1] +  rank_data [1]['class'][1][-1]"
   ]
  },
  {
   "cell_type": "markdown",
   "metadata": {},
   "source": [
    "- Step 4) 반복문을 사용하여 페이지 내에 있는 데이터 가져오기"
   ]
  },
  {
   "cell_type": "code",
   "execution_count": 141,
   "metadata": {},
   "outputs": [],
   "source": [
    "data = []\n",
    "for li in lis:\n",
    "    rank_data = li.select('.rankBtn_ctrl')\n",
    "    if len(rank_data) == 1:\n",
    "         rank = rank_data [0]['class'][1][-1]\n",
    "    else:\n",
    "        rank = rank_data [0]['class'][1][-1] +  rank_data [1]['class'][1][-1]\n",
    "        img = li.select_one('.cover > a > img')\n",
    "    title = li.select_one('.itemName').get_text().strip()\n",
    "    author = li.select_one('.author').get_text().strip()\n",
    "    company = li.select_one('.company').get_text().strip()\n",
    "    price = li.select_one('.price > em').get_text().strip()\n",
    "    price = int(price.replace(',',''))\n",
    "    data.append({'순위':rank, '표지':img, '제목':title, '저자': author, '출판사':company, '가격':price})"
   ]
  },
  {
   "cell_type": "markdown",
   "metadata": {},
   "source": [
    "- Step 5) 오류가 발생하면 오류를 해결하고 2, 3, 4 과정을 반복"
   ]
  },
  {
   "cell_type": "markdown",
   "metadata": {},
   "source": [
    "- Step 6) 모든 페이지에 대해 반복하기"
   ]
  },
  {
   "cell_type": "markdown",
   "metadata": {},
   "source": [
    "- Step 7) 데이터프레임으로 만들기 "
   ]
  },
  {
   "cell_type": "code",
   "execution_count": 142,
   "metadata": {},
   "outputs": [
    {
     "data": {
      "text/html": [
       "<div>\n",
       "<style scoped>\n",
       "    .dataframe tbody tr th:only-of-type {\n",
       "        vertical-align: middle;\n",
       "    }\n",
       "\n",
       "    .dataframe tbody tr th {\n",
       "        vertical-align: top;\n",
       "    }\n",
       "\n",
       "    .dataframe thead th {\n",
       "        text-align: right;\n",
       "    }\n",
       "</style>\n",
       "<table border=\"1\" class=\"dataframe\">\n",
       "  <thead>\n",
       "    <tr style=\"text-align: right;\">\n",
       "      <th></th>\n",
       "      <th>순위</th>\n",
       "      <th>표지</th>\n",
       "      <th>제목</th>\n",
       "      <th>저자</th>\n",
       "      <th>출판사</th>\n",
       "      <th>가격</th>\n",
       "    </tr>\n",
       "  </thead>\n",
       "  <tbody>\n",
       "    <tr>\n",
       "      <th>0</th>\n",
       "      <td>1</td>\n",
       "      <td>None</td>\n",
       "      <td>도시와 그 불확실한 벽</td>\n",
       "      <td>무라카미 하루키(村上春樹)</td>\n",
       "      <td>문학동네</td>\n",
       "      <td>17550</td>\n",
       "    </tr>\n",
       "    <tr>\n",
       "      <th>1</th>\n",
       "      <td>2</td>\n",
       "      <td>None</td>\n",
       "      <td>디케의 눈물</td>\n",
       "      <td>조국</td>\n",
       "      <td>다산북스</td>\n",
       "      <td>16920</td>\n",
       "    </tr>\n",
       "    <tr>\n",
       "      <th>2</th>\n",
       "      <td>3</td>\n",
       "      <td>None</td>\n",
       "      <td>오늘도 나아가는 중입니다</td>\n",
       "      <td>조민</td>\n",
       "      <td>참새책방</td>\n",
       "      <td>15120</td>\n",
       "    </tr>\n",
       "    <tr>\n",
       "      <th>3</th>\n",
       "      <td>4</td>\n",
       "      <td>None</td>\n",
       "      <td>퓨처 셀프</td>\n",
       "      <td>벤저민 하디/최은아 역</td>\n",
       "      <td>상상스퀘어</td>\n",
       "      <td>17820</td>\n",
       "    </tr>\n",
       "    <tr>\n",
       "      <th>4</th>\n",
       "      <td>5</td>\n",
       "      <td>None</td>\n",
       "      <td>트렌드 코리아 2024</td>\n",
       "      <td>김난도, 추예린, 전다현, 전미영, 최지혜</td>\n",
       "      <td>미래의창</td>\n",
       "      <td>17100</td>\n",
       "    </tr>\n",
       "    <tr>\n",
       "      <th>5</th>\n",
       "      <td>6</td>\n",
       "      <td>None</td>\n",
       "      <td>생각이 너무 많은 어른들을 위한 심리학(10만 부 기념 스페셜 에디션)</td>\n",
       "      <td>김혜남</td>\n",
       "      <td>메이븐</td>\n",
       "      <td>16020</td>\n",
       "    </tr>\n",
       "    <tr>\n",
       "      <th>6</th>\n",
       "      <td>7</td>\n",
       "      <td>None</td>\n",
       "      <td>일론 머스크</td>\n",
       "      <td>월터 아이작슨</td>\n",
       "      <td>21세기북스</td>\n",
       "      <td>34200</td>\n",
       "    </tr>\n",
       "    <tr>\n",
       "      <th>7</th>\n",
       "      <td>7</td>\n",
       "      <td>None</td>\n",
       "      <td>1%를 읽는 힘</td>\n",
       "      <td>메르</td>\n",
       "      <td>토네이도</td>\n",
       "      <td>19800</td>\n",
       "    </tr>\n",
       "    <tr>\n",
       "      <th>8</th>\n",
       "      <td>9</td>\n",
       "      <td>None</td>\n",
       "      <td>흔한남매 14</td>\n",
       "      <td>흔한남매, 백난도/유난희 그림/흔한컴퍼니 감수</td>\n",
       "      <td>미래엔아이세움</td>\n",
       "      <td>13050</td>\n",
       "    </tr>\n",
       "    <tr>\n",
       "      <th>9</th>\n",
       "      <td>9</td>\n",
       "      <td>None</td>\n",
       "      <td>한석준의 말하기 수업</td>\n",
       "      <td>한석준</td>\n",
       "      <td>인플루엔셜</td>\n",
       "      <td>15120</td>\n",
       "    </tr>\n",
       "    <tr>\n",
       "      <th>10</th>\n",
       "      <td>9</td>\n",
       "      <td>None</td>\n",
       "      <td>문과 남자의 과학 공부</td>\n",
       "      <td>유시민(柳時敏)</td>\n",
       "      <td>돌베개</td>\n",
       "      <td>15750</td>\n",
       "    </tr>\n",
       "    <tr>\n",
       "      <th>11</th>\n",
       "      <td>9</td>\n",
       "      <td>None</td>\n",
       "      <td>도둑맞은 집중력</td>\n",
       "      <td>요한 하리/김하현 역</td>\n",
       "      <td>어크로스</td>\n",
       "      <td>16920</td>\n",
       "    </tr>\n",
       "    <tr>\n",
       "      <th>12</th>\n",
       "      <td>9</td>\n",
       "      <td>None</td>\n",
       "      <td>세이노의 가르침</td>\n",
       "      <td>세이노</td>\n",
       "      <td>데이원</td>\n",
       "      <td>6480</td>\n",
       "    </tr>\n",
       "    <tr>\n",
       "      <th>13</th>\n",
       "      <td>14</td>\n",
       "      <td>None</td>\n",
       "      <td>미래에서 온 남자 폰 노이만</td>\n",
       "      <td>아난요 바타차리야/박병철 역</td>\n",
       "      <td>웅진지식하우스</td>\n",
       "      <td>26100</td>\n",
       "    </tr>\n",
       "    <tr>\n",
       "      <th>14</th>\n",
       "      <td>14</td>\n",
       "      <td>None</td>\n",
       "      <td>마흔에 읽는 쇼펜하우어</td>\n",
       "      <td>강용수</td>\n",
       "      <td>유노북스</td>\n",
       "      <td>15300</td>\n",
       "    </tr>\n",
       "  </tbody>\n",
       "</table>\n",
       "</div>"
      ],
      "text/plain": [
       "    순위    표지                                       제목  \\\n",
       "0    1  None                             도시와 그 불확실한 벽   \n",
       "1    2  None                                   디케의 눈물   \n",
       "2    3  None                            오늘도 나아가는 중입니다   \n",
       "3    4  None                                    퓨처 셀프   \n",
       "4    5  None                             트렌드 코리아 2024   \n",
       "5    6  None  생각이 너무 많은 어른들을 위한 심리학(10만 부 기념 스페셜 에디션)   \n",
       "6    7  None                                   일론 머스크   \n",
       "7    7  None                                 1%를 읽는 힘   \n",
       "8    9  None                                  흔한남매 14   \n",
       "9    9  None                              한석준의 말하기 수업   \n",
       "10   9  None                             문과 남자의 과학 공부   \n",
       "11   9  None                                 도둑맞은 집중력   \n",
       "12   9  None                                 세이노의 가르침   \n",
       "13  14  None                          미래에서 온 남자 폰 노이만   \n",
       "14  14  None                             마흔에 읽는 쇼펜하우어   \n",
       "\n",
       "                           저자      출판사     가격  \n",
       "0              무라카미 하루키(村上春樹)     문학동네  17550  \n",
       "1                          조국     다산북스  16920  \n",
       "2                          조민     참새책방  15120  \n",
       "3                벤저민 하디/최은아 역    상상스퀘어  17820  \n",
       "4     김난도, 추예린, 전다현, 전미영, 최지혜     미래의창  17100  \n",
       "5                         김혜남      메이븐  16020  \n",
       "6                     월터 아이작슨   21세기북스  34200  \n",
       "7                          메르     토네이도  19800  \n",
       "8   흔한남매, 백난도/유난희 그림/흔한컴퍼니 감수  미래엔아이세움  13050  \n",
       "9                         한석준    인플루엔셜  15120  \n",
       "10                   유시민(柳時敏)      돌베개  15750  \n",
       "11                요한 하리/김하현 역     어크로스  16920  \n",
       "12                        세이노      데이원   6480  \n",
       "13            아난요 바타차리야/박병철 역  웅진지식하우스  26100  \n",
       "14                        강용수     유노북스  15300  "
      ]
     },
     "execution_count": 142,
     "metadata": {},
     "output_type": "execute_result"
    }
   ],
   "source": [
    "df = pd.DataFrame(data)\n",
    "df"
   ]
  },
  {
   "cell_type": "code",
   "execution_count": null,
   "metadata": {},
   "outputs": [],
   "source": []
  }
 ],
 "metadata": {
  "kernelspec": {
   "display_name": "base",
   "language": "python",
   "name": "python3"
  },
  "language_info": {
   "codemirror_mode": {
    "name": "ipython",
    "version": 3
   },
   "file_extension": ".py",
   "mimetype": "text/x-python",
   "name": "python",
   "nbconvert_exporter": "python",
   "pygments_lexer": "ipython3",
   "version": "3.11.4"
  },
  "orig_nbformat": 4
 },
 "nbformat": 4,
 "nbformat_minor": 2
}
