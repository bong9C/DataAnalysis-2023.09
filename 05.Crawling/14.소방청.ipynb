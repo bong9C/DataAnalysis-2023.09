{
 "cells": [
  {
   "cell_type": "markdown",
   "metadata": {},
   "source": [
    "## 소방청 - 서울소재 소방기관"
   ]
  },
  {
   "cell_type": "code",
   "execution_count": 61,
   "metadata": {},
   "outputs": [],
   "source": [
    "import time\n",
    "import pandas as pd\n",
    "from bs4 import BeautifulSoup\n",
    "from selenium import webdriver\n",
    "from selenium.webdriver.common.by import By\n",
    "from selenium.webdriver.common.keys import Keys"
   ]
  },
  {
   "cell_type": "code",
   "execution_count": 62,
   "metadata": {},
   "outputs": [],
   "source": [
    "url = 'https://www.nfa.go.kr/nfa/introduce/status/firestationidfo/;jsessionid=rL0FiIR6hQgCb+UoRDIiXzxW.nfa22?searchDistance=10&searchMode=keyword&myX=37.5129582&myY=126.9193489&searchKeyword='\n",
    "driver = webdriver.Chrome()\n",
    "driver.get(url)"
   ]
  },
  {
   "cell_type": "code",
   "execution_count": 63,
   "metadata": {},
   "outputs": [],
   "source": [
    "# 검색 입력창에 서울 자동 입력하기\n",
    "driver.find_element(By.ID,'searchKeyword').send_keys('서울')"
   ]
  },
  {
   "cell_type": "code",
   "execution_count": 64,
   "metadata": {},
   "outputs": [],
   "source": [
    "# 입력했으니 검색버튼 클릭하기\n",
    "driver.find_element(By.ID,'fsSearchBtn').click()"
   ]
  },
  {
   "cell_type": "code",
   "execution_count": 65,
   "metadata": {},
   "outputs": [
    {
     "data": {
      "text/plain": [
       "10"
      ]
     },
     "execution_count": 65,
     "metadata": {},
     "output_type": "execute_result"
    }
   ],
   "source": [
    "# 페이지 이동해서 HTML 코드를 BeautifulSoup으로 parsing\n",
    "soup = BeautifulSoup(driver.page_source, 'html.parser')\n",
    "lis = soup.select('.stations-list > li')\n",
    "len(lis)"
   ]
  },
  {
   "cell_type": "code",
   "execution_count": 66,
   "metadata": {},
   "outputs": [
    {
     "data": {
      "text/plain": [
       "('동작소방서', '서울특별시 동작구 여의대방로16길 55(신대방동)', '02-847-1190')"
      ]
     },
     "execution_count": 66,
     "metadata": {},
     "output_type": "execute_result"
    }
   ],
   "source": [
    "# 기관명, 주소, 전화번호\n",
    "li = lis[0]\n",
    "title = li.select_one('.title').get_text().strip()\n",
    "address = li.select_one('address').get_text().strip()   # select_one 대신 find로 해도됨\n",
    "tel = li.select_one('.tel').get_text().strip()\n",
    "title, address, tel"
   ]
  },
  {
   "cell_type": "code",
   "execution_count": 67,
   "metadata": {},
   "outputs": [],
   "source": [
    "data = []\n",
    "for li in lis:\n",
    "    title = li.select_one('.title').get_text().strip()    # 제목만 따오기 \n",
    "    address = li.select_one('address').get_text().strip() # 클래스일땐 . 클래스명, 테그일땐 테그명 불러오기( 테그는 점(.) 안붙음)\n",
    "    tel = li.select_one('.tel').get_text().strip()\n",
    "    data.append({'기관명':title, '주소':address, '전화번호': tel })"
   ]
  },
  {
   "cell_type": "code",
   "execution_count": 68,
   "metadata": {},
   "outputs": [
    {
     "data": {
      "text/html": [
       "<div>\n",
       "<style scoped>\n",
       "    .dataframe tbody tr th:only-of-type {\n",
       "        vertical-align: middle;\n",
       "    }\n",
       "\n",
       "    .dataframe tbody tr th {\n",
       "        vertical-align: top;\n",
       "    }\n",
       "\n",
       "    .dataframe thead th {\n",
       "        text-align: right;\n",
       "    }\n",
       "</style>\n",
       "<table border=\"1\" class=\"dataframe\">\n",
       "  <thead>\n",
       "    <tr style=\"text-align: right;\">\n",
       "      <th></th>\n",
       "      <th>기관명</th>\n",
       "      <th>주소</th>\n",
       "      <th>전화번호</th>\n",
       "    </tr>\n",
       "  </thead>\n",
       "  <tbody>\n",
       "    <tr>\n",
       "      <th>0</th>\n",
       "      <td>동작소방서</td>\n",
       "      <td>서울특별시 동작구 여의대방로16길 55(신대방동)</td>\n",
       "      <td>02-847-1190</td>\n",
       "    </tr>\n",
       "    <tr>\n",
       "      <th>1</th>\n",
       "      <td>서대문소방서</td>\n",
       "      <td>서울특별시 서대문구 연희로 182(연희동)</td>\n",
       "      <td>02-3144-1190</td>\n",
       "    </tr>\n",
       "    <tr>\n",
       "      <th>2</th>\n",
       "      <td>광진소방서</td>\n",
       "      <td>서울특별시 광진구 광나루로 480(구의동)</td>\n",
       "      <td>02-457-0119</td>\n",
       "    </tr>\n",
       "    <tr>\n",
       "      <th>3</th>\n",
       "      <td>송파소방서</td>\n",
       "      <td>서울특별시 송파구 오금로51길 56(마천동)</td>\n",
       "      <td>02-403-2119</td>\n",
       "    </tr>\n",
       "    <tr>\n",
       "      <th>4</th>\n",
       "      <td>양천소방서</td>\n",
       "      <td>서울특별시 양천구 목동서로 180(목동)</td>\n",
       "      <td>02-2655-1119</td>\n",
       "    </tr>\n",
       "    <tr>\n",
       "      <th>5</th>\n",
       "      <td>은평소방서</td>\n",
       "      <td>서울특별시 은평구 통일로 962(진관동)</td>\n",
       "      <td>02-355-0119</td>\n",
       "    </tr>\n",
       "    <tr>\n",
       "      <th>6</th>\n",
       "      <td>노원소방서</td>\n",
       "      <td>서울특별시 노원구 한글비석로 1길 8(하계동)</td>\n",
       "      <td>02-977-0119</td>\n",
       "    </tr>\n",
       "    <tr>\n",
       "      <th>7</th>\n",
       "      <td>종로소방서</td>\n",
       "      <td>서울특별시 종로구 종로1길 28(수송동)</td>\n",
       "      <td>02-735-6119</td>\n",
       "    </tr>\n",
       "    <tr>\n",
       "      <th>8</th>\n",
       "      <td>도봉소방서</td>\n",
       "      <td>서울특별시 도봉구 도봉로 666(방학동)</td>\n",
       "      <td>02-3492-3437</td>\n",
       "    </tr>\n",
       "    <tr>\n",
       "      <th>9</th>\n",
       "      <td>용산소방서</td>\n",
       "      <td>서울특별시 용산구 한강대로 167(한강로2가)</td>\n",
       "      <td>02-794-0119</td>\n",
       "    </tr>\n",
       "  </tbody>\n",
       "</table>\n",
       "</div>"
      ],
      "text/plain": [
       "      기관명                           주소          전화번호\n",
       "0   동작소방서  서울특별시 동작구 여의대방로16길 55(신대방동)   02-847-1190\n",
       "1  서대문소방서      서울특별시 서대문구 연희로 182(연희동)  02-3144-1190\n",
       "2   광진소방서      서울특별시 광진구 광나루로 480(구의동)   02-457-0119\n",
       "3   송파소방서     서울특별시 송파구 오금로51길 56(마천동)   02-403-2119\n",
       "4   양천소방서       서울특별시 양천구 목동서로 180(목동)  02-2655-1119\n",
       "5   은평소방서       서울특별시 은평구 통일로 962(진관동)   02-355-0119\n",
       "6   노원소방서    서울특별시 노원구 한글비석로 1길 8(하계동)   02-977-0119\n",
       "7   종로소방서       서울특별시 종로구 종로1길 28(수송동)   02-735-6119\n",
       "8   도봉소방서       서울특별시 도봉구 도봉로 666(방학동)  02-3492-3437\n",
       "9   용산소방서    서울특별시 용산구 한강대로 167(한강로2가)   02-794-0119"
      ]
     },
     "execution_count": 68,
     "metadata": {},
     "output_type": "execute_result"
    }
   ],
   "source": [
    "pd.DataFrame(data)"
   ]
  },
  {
   "cell_type": "markdown",
   "metadata": {},
   "source": [
    "- 두번째 페이지로 이동~~~"
   ]
  },
  {
   "cell_type": "markdown",
   "metadata": {},
   "source": [
    "![Alt text](image-1.png)  / ![Alt text](image-2.png)"
   ]
  },
  {
   "cell_type": "markdown",
   "metadata": {},
   "source": [
    "#### 가져올 수 있는 클래스 이름이나 태그가 없을 때\n",
    "#listForm > div > section > ul > li:nth-child(1) > div > div > ul > li:nth-child(4) > a  ( 셀렉터 )\n",
    "//*[@id=\"listForm\"]/div/section/ul/li[1]/div/div/ul/li[4]/a (엑스페스)"
   ]
  },
  {
   "cell_type": "code",
   "execution_count": 69,
   "metadata": {},
   "outputs": [],
   "source": [
    "# //*[@id=\"listForm\"]/div/section/ul/li[1]/div/div/ul/li[4]/a\n",
    "driver.find_element(By.XPATH,'//*[@id=\"listForm\"]/div/section/ul/li[1]/div/div/ul/li[4]/a').click()"
   ]
  },
  {
   "cell_type": "markdown",
   "metadata": {},
   "source": [
    "- next[>] 페이지로 이동"
   ]
  },
  {
   "cell_type": "code",
   "execution_count": 70,
   "metadata": {},
   "outputs": [],
   "source": [
    "driver.find_element(By.CSS_SELECTOR,'.next_page').click()\n",
    "# driver.find_element(By.CLASS_NAME,'next_page')  이것도 가능"
   ]
  },
  {
   "cell_type": "markdown",
   "metadata": {},
   "source": [
    "- 모든 페이지에 대해서 적용"
   ]
  },
  {
   "cell_type": "code",
   "execution_count": 71,
   "metadata": {},
   "outputs": [],
   "source": [
    "# 첫번째 페이지로 다시 이동 \n",
    "driver.get(url)\n",
    "# requests.get() => HTML 데이터만 가져오면 됨\n",
    "# selenium : HTML 데이터를 가져오고 브라우저에 화면에 표시해줘야함으로 바로 실행하면,\n",
    "#      반복문에서 뺑뺑이 돌기때문에 실행되는 시간이 없어 에러남으로, time.sleep으로 시간텀을줌\n",
    "time.sleep(1)\n",
    "driver.find_element(By.ID,'searchKeyword').send_keys('서울')\n",
    "driver.find_element(By.ID,'fsSearchBtn').click()\n"
   ]
  },
  {
   "cell_type": "code",
   "execution_count": 72,
   "metadata": {},
   "outputs": [
    {
     "data": {
      "text/plain": [
       "100"
      ]
     },
     "execution_count": 72,
     "metadata": {},
     "output_type": "execute_result"
    }
   ],
   "source": [
    "# 검색 결과 건수 확인 [서울 소방기관 검색결과 : 100건]\n",
    "count = driver.find_element(By.XPATH, '//*[@id=\"listForm\"]/div/section/div/p/strong[2]').text\n",
    "count = int(count[:-1])\n",
    "count\n"
   ]
  },
  {
   "cell_type": "code",
   "execution_count": 73,
   "metadata": {},
   "outputs": [
    {
     "data": {
      "text/plain": [
       "10"
      ]
     },
     "execution_count": 73,
     "metadata": {},
     "output_type": "execute_result"
    }
   ],
   "source": [
    "import math\n",
    "total_pages = math.ceil(97/10)\n",
    "total_pages"
   ]
  },
  {
   "cell_type": "code",
   "execution_count": 74,
   "metadata": {},
   "outputs": [],
   "source": [
    "    \n",
    "data = []\n",
    "for i in range(total_pages):\n",
    "    if i % 2 == 1:\n",
    "        driver.find_element(By.CSS_SELECTOR,'.next_page').click()\n",
    "        time.sleep(1)\n",
    "    if 1 > 0 and i % 2 == 0:\n",
    "        driver.find_element(By.XPATH,'//*[@id=\"listForm\"]/div/section/ul/li[1]/div/div/ul/li[4]/a').click()\n",
    "        time.sleep(1)\n",
    "\n",
    "    soup = BeautifulSoup(driver.page_source, 'html.parser')\n",
    "    lis = soup.select('.stations-list > li')\n",
    "\n",
    "    for li in lis:\n",
    "        title = li.select_one('.title').get_text().strip()\n",
    "        address = li.select_one('address').get_text().strip() # 클래스일땐 . 클래스명, 테그일땐 테그명 불러오기( 테그는 점(.) 안붙음)\n",
    "        tel = li.select_one('.tel').get_text().strip()\n",
    "        data.append({'기관명':title, '주소':address, '전화번호': tel })\n",
    "        \n",
    "driver.close()"
   ]
  },
  {
   "cell_type": "code",
   "execution_count": 77,
   "metadata": {},
   "outputs": [
    {
     "data": {
      "text/html": [
       "<div>\n",
       "<style scoped>\n",
       "    .dataframe tbody tr th:only-of-type {\n",
       "        vertical-align: middle;\n",
       "    }\n",
       "\n",
       "    .dataframe tbody tr th {\n",
       "        vertical-align: top;\n",
       "    }\n",
       "\n",
       "    .dataframe thead th {\n",
       "        text-align: right;\n",
       "    }\n",
       "</style>\n",
       "<table border=\"1\" class=\"dataframe\">\n",
       "  <thead>\n",
       "    <tr style=\"text-align: right;\">\n",
       "      <th></th>\n",
       "      <th>기관명</th>\n",
       "      <th>주소</th>\n",
       "      <th>전화번호</th>\n",
       "    </tr>\n",
       "  </thead>\n",
       "  <tbody>\n",
       "    <tr>\n",
       "      <th>0</th>\n",
       "      <td>마포소방서</td>\n",
       "      <td>서울특별시 마포구 창전로 76(신수동)</td>\n",
       "      <td>02-716-0604</td>\n",
       "    </tr>\n",
       "    <tr>\n",
       "      <th>1</th>\n",
       "      <td>강서소방서</td>\n",
       "      <td>서울특별시 강서구 양천로 550(등촌동)</td>\n",
       "      <td>02-3663-0119</td>\n",
       "    </tr>\n",
       "    <tr>\n",
       "      <th>2</th>\n",
       "      <td>구로소방서</td>\n",
       "      <td>서울특별시 구로구 경인로 408(고척동)</td>\n",
       "      <td>02-2618-0119</td>\n",
       "    </tr>\n",
       "    <tr>\n",
       "      <th>3</th>\n",
       "      <td>성동소방서</td>\n",
       "      <td>서울특별시 성동구 살곶이길 331(행당동)</td>\n",
       "      <td>02-2622-1777</td>\n",
       "    </tr>\n",
       "    <tr>\n",
       "      <th>4</th>\n",
       "      <td>관악소방서</td>\n",
       "      <td>서울특별시 관악구 관악로 97(봉천동)</td>\n",
       "      <td>02-874-8119</td>\n",
       "    </tr>\n",
       "  </tbody>\n",
       "</table>\n",
       "</div>"
      ],
      "text/plain": [
       "     기관명                       주소          전화번호\n",
       "0  마포소방서    서울특별시 마포구 창전로 76(신수동)   02-716-0604\n",
       "1  강서소방서   서울특별시 강서구 양천로 550(등촌동)  02-3663-0119\n",
       "2  구로소방서   서울특별시 구로구 경인로 408(고척동)  02-2618-0119\n",
       "3  성동소방서  서울특별시 성동구 살곶이길 331(행당동)  02-2622-1777\n",
       "4  관악소방서    서울특별시 관악구 관악로 97(봉천동)   02-874-8119"
      ]
     },
     "execution_count": 77,
     "metadata": {},
     "output_type": "execute_result"
    }
   ],
   "source": [
    "df = pd.DataFrame(data)\n",
    "df.head()"
   ]
  },
  {
   "cell_type": "code",
   "execution_count": 76,
   "metadata": {},
   "outputs": [
    {
     "data": {
      "text/html": [
       "<div>\n",
       "<style scoped>\n",
       "    .dataframe tbody tr th:only-of-type {\n",
       "        vertical-align: middle;\n",
       "    }\n",
       "\n",
       "    .dataframe tbody tr th {\n",
       "        vertical-align: top;\n",
       "    }\n",
       "\n",
       "    .dataframe thead th {\n",
       "        text-align: right;\n",
       "    }\n",
       "</style>\n",
       "<table border=\"1\" class=\"dataframe\">\n",
       "  <thead>\n",
       "    <tr style=\"text-align: right;\">\n",
       "      <th></th>\n",
       "      <th>기관명</th>\n",
       "      <th>주소</th>\n",
       "      <th>전화번호</th>\n",
       "    </tr>\n",
       "  </thead>\n",
       "  <tbody>\n",
       "    <tr>\n",
       "      <th>95</th>\n",
       "      <td>송파소방서-운동장-119 안전센터</td>\n",
       "      <td>서울특별시 송파구 올림픽로 25 (잠실동)</td>\n",
       "      <td>02-2203-2380</td>\n",
       "    </tr>\n",
       "    <tr>\n",
       "      <th>96</th>\n",
       "      <td>송파소방서-잠실-119 안전센터</td>\n",
       "      <td>서울특별시 송파구 석촌호수로 151 (잠실동)</td>\n",
       "      <td>02-422-0119</td>\n",
       "    </tr>\n",
       "    <tr>\n",
       "      <th>97</th>\n",
       "      <td>송파소방서-방이-119 안전센터</td>\n",
       "      <td>서울특별시 송파구 강동대로 286 (방이동)</td>\n",
       "      <td>02-409-0059</td>\n",
       "    </tr>\n",
       "    <tr>\n",
       "      <th>98</th>\n",
       "      <td>송파소방서-거여-119 안전센터</td>\n",
       "      <td>서울특별시 송파구 마천로 329 (마천동)</td>\n",
       "      <td>02-400-0119</td>\n",
       "    </tr>\n",
       "    <tr>\n",
       "      <th>99</th>\n",
       "      <td>송파소방서-마천-119 안전센터</td>\n",
       "      <td>서울특별시 송파구 오금로51길 56 (마천동)</td>\n",
       "      <td>02-3401-2119</td>\n",
       "    </tr>\n",
       "  </tbody>\n",
       "</table>\n",
       "</div>"
      ],
      "text/plain": [
       "                   기관명                         주소          전화번호\n",
       "95  송파소방서-운동장-119 안전센터    서울특별시 송파구 올림픽로 25 (잠실동)  02-2203-2380\n",
       "96   송파소방서-잠실-119 안전센터  서울특별시 송파구 석촌호수로 151 (잠실동)   02-422-0119\n",
       "97   송파소방서-방이-119 안전센터   서울특별시 송파구 강동대로 286 (방이동)   02-409-0059\n",
       "98   송파소방서-거여-119 안전센터    서울특별시 송파구 마천로 329 (마천동)   02-400-0119\n",
       "99   송파소방서-마천-119 안전센터  서울특별시 송파구 오금로51길 56 (마천동)  02-3401-2119"
      ]
     },
     "execution_count": 76,
     "metadata": {},
     "output_type": "execute_result"
    }
   ],
   "source": [
    "df.to_csv('data/서울소재 소방기관_20230919.csv', index=False)\n",
    "pd.read_csv('data/서울소재 소방기관_20230919.csv').tail()"
   ]
  }
 ],
 "metadata": {
  "kernelspec": {
   "display_name": "base",
   "language": "python",
   "name": "python3"
  },
  "language_info": {
   "codemirror_mode": {
    "name": "ipython",
    "version": 3
   },
   "file_extension": ".py",
   "mimetype": "text/x-python",
   "name": "python",
   "nbconvert_exporter": "python",
   "pygments_lexer": "ipython3",
   "version": "3.11.4"
  },
  "orig_nbformat": 4
 },
 "nbformat": 4,
 "nbformat_minor": 2
}
