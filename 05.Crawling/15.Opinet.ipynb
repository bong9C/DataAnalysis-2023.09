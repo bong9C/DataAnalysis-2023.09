{
 "cells": [
  {
   "cell_type": "markdown",
   "metadata": {},
   "source": [
    "## Opinet - 셀츠 주유소가 정말 저렴할까?\n"
   ]
  },
  {
   "cell_type": "code",
   "execution_count": 9,
   "metadata": {},
   "outputs": [],
   "source": [
    "import time\n",
    "import pandas as pd\n",
    "from bs4 import BeautifulSoup\n",
    "from selenium import webdriver\n",
    "from selenium.webdriver.common.by import By\n",
    "from selenium.webdriver.common.keys import Keys\n"
   ]
  },
  {
   "cell_type": "markdown",
   "metadata": {},
   "source": [
    "#### 1. 셀레니움으로 서울시 구별 주유소 가격정보 얻기\n",
    "\n"
   ]
  },
  {
   "cell_type": "code",
   "execution_count": 10,
   "metadata": {},
   "outputs": [],
   "source": [
    "# Opinet 초기화면 > 싼 주유소 찾기 > 지역별\n",
    "url = 'https://www.opinet.co.kr/searRgSelect.do'\n",
    "driver = webdriver.Chrome()\n",
    "driver.get(url)\n",
    "time.sleep(2)           # 타이밍 문제로 오류 날 수 있어서 타임을 걸어주면 좋음."
   ]
  },
  {
   "cell_type": "code",
   "execution_count": 11,
   "metadata": {},
   "outputs": [],
   "source": [
    "# 광역시도에서 서울 입력\n",
    "metro = driver.find_element(By.ID, 'SIDO_NM0')\n",
    "metro.send_keys('서울')"
   ]
  },
  {
   "cell_type": "code",
   "execution_count": 12,
   "metadata": {},
   "outputs": [
    {
     "data": {
      "text/plain": [
       "[<selenium.webdriver.remote.webelement.WebElement (session=\"c05821fc2a7a059448dd2280f4d97417\", element=\"A55EB7D0E14F4536624DF12D86FCAD97_element_100\")>,\n",
       " <selenium.webdriver.remote.webelement.WebElement (session=\"c05821fc2a7a059448dd2280f4d97417\", element=\"A55EB7D0E14F4536624DF12D86FCAD97_element_102\")>,\n",
       " <selenium.webdriver.remote.webelement.WebElement (session=\"c05821fc2a7a059448dd2280f4d97417\", element=\"A55EB7D0E14F4536624DF12D86FCAD97_element_104\")>]"
      ]
     },
     "execution_count": 12,
     "metadata": {},
     "output_type": "execute_result"
    }
   ],
   "source": [
    "# 서울시 자치구 리스트 가져오기\n",
    "sigungu = driver.find_element(By.ID, 'SIGUNGU_NM0')\n",
    "gu_list = sigungu.find_elements(By.TAG_NAME, 'option')\n",
    "gu_list[:3]"
   ]
  },
  {
   "cell_type": "code",
   "execution_count": 13,
   "metadata": {},
   "outputs": [
    {
     "data": {
      "text/plain": [
       "('시/군/구', '강남구')"
      ]
     },
     "execution_count": 13,
     "metadata": {},
     "output_type": "execute_result"
    }
   ],
   "source": [
    "gu_list[0].text, gu_list[1].text"
   ]
  },
  {
   "cell_type": "code",
   "execution_count": 14,
   "metadata": {},
   "outputs": [
    {
     "data": {
      "text/plain": [
       "['강남구', '강동구', '강북구']"
      ]
     },
     "execution_count": 14,
     "metadata": {},
     "output_type": "execute_result"
    }
   ],
   "source": [
    "gu_names = [ gu.text for gu in gu_list[1:]]\n",
    "gu_names[:3]"
   ]
  },
  {
   "cell_type": "code",
   "execution_count": 15,
   "metadata": {},
   "outputs": [],
   "source": [
    "# 강남구 선택\n",
    "sigungu.send_keys(gu_names[0])"
   ]
  },
  {
   "cell_type": "code",
   "execution_count": 16,
   "metadata": {},
   "outputs": [],
   "source": [
    "# 엑셀 저장\n",
    "driver.find_element(By.ID, 'glopopd_excel').click()\n",
    "time.sleep(1)"
   ]
  },
  {
   "cell_type": "markdown",
   "metadata": {},
   "source": [
    "![Alt text](image-3.png)"
   ]
  },
  {
   "cell_type": "code",
   "execution_count": 17,
   "metadata": {},
   "outputs": [],
   "source": [
    "# 강남구를 제외한 나머지 자치구에 대해서 주유소 가격정보 엑셀 저장\n",
    "for gu in gu_names[1:]:\n",
    "    sigungu = driver.find_element(By.ID, 'SIGUNGU_NM0')\n",
    "    sigungu.send_keys(gu)\n",
    "    time.sleep(3)\n",
    "    driver.find_element(By.ID, 'glopopd_excel').click()\n",
    "    time.sleep(3)"
   ]
  },
  {
   "cell_type": "code",
   "execution_count": null,
   "metadata": {},
   "outputs": [
    {
     "ename": "InvalidSessionIdException",
     "evalue": "Message: invalid session id\nStacktrace:\n\tGetHandleVerifier [0x00007FF684F578A2+54818]\n\t(No symbol) [0x00007FF684EC6AD2]\n\t(No symbol) [0x00007FF684D7D8ED]\n\t(No symbol) [0x00007FF684DB30DE]\n\t(No symbol) [0x00007FF684DDE9A2]\n\t(No symbol) [0x00007FF684DDA710]\n\t(No symbol) [0x00007FF684DDA016]\n\t(No symbol) [0x00007FF684D541D0]\n\tGetHandleVerifier [0x00007FF6852BB9A2+3610402]\n\tGetHandleVerifier [0x00007FF685311870+3962352]\n\tGetHandleVerifier [0x00007FF685309D5F+3930847]\n\tGetHandleVerifier [0x00007FF684FF3656+693206]\n\t(No symbol) [0x00007FF684ED1638]\n\t(No symbol) [0x00007FF684D52FFE]\n\tGetHandleVerifier [0x00007FF685352288+4227080]\n\tBaseThreadInitThunk [0x00007FFE2AC77614+20]\n\tRtlUserThreadStart [0x00007FFE2B1626B1+33]\n",
     "output_type": "error",
     "traceback": [
      "\u001b[1;31m---------------------------------------------------------------------------\u001b[0m",
      "\u001b[1;31mInvalidSessionIdException\u001b[0m                 Traceback (most recent call last)",
      "\u001b[1;32md:\\WorkSpace\\02.DataAnalysis\\05.Crawling\\15.Opinet.ipynb 셀 13\u001b[0m line \u001b[0;36m1\n\u001b[1;32m----> <a href='vscode-notebook-cell:/d%3A/WorkSpace/02.DataAnalysis/05.Crawling/15.Opinet.ipynb#X15sZmlsZQ%3D%3D?line=0'>1</a>\u001b[0m driver\u001b[39m.\u001b[39mclose()\n",
      "File \u001b[1;32mc:\\Users\\human\\anaconda3\\Lib\\site-packages\\selenium\\webdriver\\remote\\webdriver.py:455\u001b[0m, in \u001b[0;36mWebDriver.close\u001b[1;34m(self)\u001b[0m\n\u001b[0;32m    447\u001b[0m \u001b[39mdef\u001b[39;00m \u001b[39mclose\u001b[39m(\u001b[39mself\u001b[39m) \u001b[39m-\u001b[39m\u001b[39m>\u001b[39m \u001b[39mNone\u001b[39;00m:\n\u001b[0;32m    448\u001b[0m \u001b[39m    \u001b[39m\u001b[39m\"\"\"Closes the current window.\u001b[39;00m\n\u001b[0;32m    449\u001b[0m \n\u001b[0;32m    450\u001b[0m \u001b[39m    :Usage:\u001b[39;00m\n\u001b[1;32m   (...)\u001b[0m\n\u001b[0;32m    453\u001b[0m \u001b[39m            driver.close()\u001b[39;00m\n\u001b[0;32m    454\u001b[0m \u001b[39m    \"\"\"\u001b[39;00m\n\u001b[1;32m--> 455\u001b[0m     \u001b[39mself\u001b[39m\u001b[39m.\u001b[39mexecute(Command\u001b[39m.\u001b[39mCLOSE)\n",
      "File \u001b[1;32mc:\\Users\\human\\anaconda3\\Lib\\site-packages\\selenium\\webdriver\\remote\\webdriver.py:344\u001b[0m, in \u001b[0;36mWebDriver.execute\u001b[1;34m(self, driver_command, params)\u001b[0m\n\u001b[0;32m    342\u001b[0m response \u001b[39m=\u001b[39m \u001b[39mself\u001b[39m\u001b[39m.\u001b[39mcommand_executor\u001b[39m.\u001b[39mexecute(driver_command, params)\n\u001b[0;32m    343\u001b[0m \u001b[39mif\u001b[39;00m response:\n\u001b[1;32m--> 344\u001b[0m     \u001b[39mself\u001b[39m\u001b[39m.\u001b[39merror_handler\u001b[39m.\u001b[39mcheck_response(response)\n\u001b[0;32m    345\u001b[0m     response[\u001b[39m\"\u001b[39m\u001b[39mvalue\u001b[39m\u001b[39m\"\u001b[39m] \u001b[39m=\u001b[39m \u001b[39mself\u001b[39m\u001b[39m.\u001b[39m_unwrap_value(response\u001b[39m.\u001b[39mget(\u001b[39m\"\u001b[39m\u001b[39mvalue\u001b[39m\u001b[39m\"\u001b[39m, \u001b[39mNone\u001b[39;00m))\n\u001b[0;32m    346\u001b[0m     \u001b[39mreturn\u001b[39;00m response\n",
      "File \u001b[1;32mc:\\Users\\human\\anaconda3\\Lib\\site-packages\\selenium\\webdriver\\remote\\errorhandler.py:229\u001b[0m, in \u001b[0;36mErrorHandler.check_response\u001b[1;34m(self, response)\u001b[0m\n\u001b[0;32m    227\u001b[0m         alert_text \u001b[39m=\u001b[39m value[\u001b[39m\"\u001b[39m\u001b[39malert\u001b[39m\u001b[39m\"\u001b[39m]\u001b[39m.\u001b[39mget(\u001b[39m\"\u001b[39m\u001b[39mtext\u001b[39m\u001b[39m\"\u001b[39m)\n\u001b[0;32m    228\u001b[0m     \u001b[39mraise\u001b[39;00m exception_class(message, screen, stacktrace, alert_text)  \u001b[39m# type: ignore[call-arg]  # mypy is not smart enough here\u001b[39;00m\n\u001b[1;32m--> 229\u001b[0m \u001b[39mraise\u001b[39;00m exception_class(message, screen, stacktrace)\n",
      "\u001b[1;31mInvalidSessionIdException\u001b[0m: Message: invalid session id\nStacktrace:\n\tGetHandleVerifier [0x00007FF684F578A2+54818]\n\t(No symbol) [0x00007FF684EC6AD2]\n\t(No symbol) [0x00007FF684D7D8ED]\n\t(No symbol) [0x00007FF684DB30DE]\n\t(No symbol) [0x00007FF684DDE9A2]\n\t(No symbol) [0x00007FF684DDA710]\n\t(No symbol) [0x00007FF684DDA016]\n\t(No symbol) [0x00007FF684D541D0]\n\tGetHandleVerifier [0x00007FF6852BB9A2+3610402]\n\tGetHandleVerifier [0x00007FF685311870+3962352]\n\tGetHandleVerifier [0x00007FF685309D5F+3930847]\n\tGetHandleVerifier [0x00007FF684FF3656+693206]\n\t(No symbol) [0x00007FF684ED1638]\n\t(No symbol) [0x00007FF684D52FFE]\n\tGetHandleVerifier [0x00007FF685352288+4227080]\n\tBaseThreadInitThunk [0x00007FFE2AC77614+20]\n\tRtlUserThreadStart [0x00007FFE2B1626B1+33]\n"
     ]
    }
   ],
   "source": [
    "driver.close()"
   ]
  },
  {
   "cell_type": "markdown",
   "metadata": {},
   "source": [
    "#### 2. 구별 휘발유 가격에 대한 정리"
   ]
  },
  {
   "cell_type": "code",
   "execution_count": 19,
   "metadata": {},
   "outputs": [
    {
     "data": {
      "text/plain": [
       "['c:/Users/human/Downloads\\\\지역_위치별(주유소) (1).xls',\n",
       " 'c:/Users/human/Downloads\\\\지역_위치별(주유소) (10).xls',\n",
       " 'c:/Users/human/Downloads\\\\지역_위치별(주유소) (11).xls',\n",
       " 'c:/Users/human/Downloads\\\\지역_위치별(주유소) (12).xls',\n",
       " 'c:/Users/human/Downloads\\\\지역_위치별(주유소) (13).xls',\n",
       " 'c:/Users/human/Downloads\\\\지역_위치별(주유소) (14).xls',\n",
       " 'c:/Users/human/Downloads\\\\지역_위치별(주유소) (15).xls',\n",
       " 'c:/Users/human/Downloads\\\\지역_위치별(주유소) (16).xls',\n",
       " 'c:/Users/human/Downloads\\\\지역_위치별(주유소) (17).xls',\n",
       " 'c:/Users/human/Downloads\\\\지역_위치별(주유소) (18).xls',\n",
       " 'c:/Users/human/Downloads\\\\지역_위치별(주유소) (19).xls',\n",
       " 'c:/Users/human/Downloads\\\\지역_위치별(주유소) (2).xls',\n",
       " 'c:/Users/human/Downloads\\\\지역_위치별(주유소) (20).xls',\n",
       " 'c:/Users/human/Downloads\\\\지역_위치별(주유소) (21).xls',\n",
       " 'c:/Users/human/Downloads\\\\지역_위치별(주유소) (22).xls',\n",
       " 'c:/Users/human/Downloads\\\\지역_위치별(주유소) (23).xls',\n",
       " 'c:/Users/human/Downloads\\\\지역_위치별(주유소) (24).xls',\n",
       " 'c:/Users/human/Downloads\\\\지역_위치별(주유소) (3).xls',\n",
       " 'c:/Users/human/Downloads\\\\지역_위치별(주유소) (4).xls',\n",
       " 'c:/Users/human/Downloads\\\\지역_위치별(주유소) (5).xls',\n",
       " 'c:/Users/human/Downloads\\\\지역_위치별(주유소) (6).xls',\n",
       " 'c:/Users/human/Downloads\\\\지역_위치별(주유소) (7).xls',\n",
       " 'c:/Users/human/Downloads\\\\지역_위치별(주유소) (8).xls',\n",
       " 'c:/Users/human/Downloads\\\\지역_위치별(주유소) (9).xls',\n",
       " 'c:/Users/human/Downloads\\\\지역_위치별(주유소).xls']"
      ]
     },
     "execution_count": 19,
     "metadata": {},
     "output_type": "execute_result"
    }
   ],
   "source": [
    "from glob import glob\n",
    "glob('c:/Users/human/Downloads/지역*.xls')"
   ]
  },
  {
   "cell_type": "markdown",
   "metadata": {},
   "source": [
    "![Alt text](image-5.png)"
   ]
  },
  {
   "cell_type": "code",
   "execution_count": 20,
   "metadata": {},
   "outputs": [
    {
     "data": {
      "text/html": [
       "<div>\n",
       "<style scoped>\n",
       "    .dataframe tbody tr th:only-of-type {\n",
       "        vertical-align: middle;\n",
       "    }\n",
       "\n",
       "    .dataframe tbody tr th {\n",
       "        vertical-align: top;\n",
       "    }\n",
       "\n",
       "    .dataframe thead th {\n",
       "        text-align: right;\n",
       "    }\n",
       "</style>\n",
       "<table border=\"1\" class=\"dataframe\">\n",
       "  <thead>\n",
       "    <tr style=\"text-align: right;\">\n",
       "      <th></th>\n",
       "      <th>지역</th>\n",
       "      <th>상호</th>\n",
       "      <th>주소</th>\n",
       "      <th>상표</th>\n",
       "      <th>전화번호</th>\n",
       "      <th>셀프여부</th>\n",
       "      <th>고급휘발유</th>\n",
       "      <th>휘발유</th>\n",
       "      <th>경유</th>\n",
       "      <th>실내등유</th>\n",
       "    </tr>\n",
       "  </thead>\n",
       "  <tbody>\n",
       "    <tr>\n",
       "      <th>0</th>\n",
       "      <td>서울특별시</td>\n",
       "      <td>(주)보성 세곡주유소</td>\n",
       "      <td>서울 강남구  헌릉로 731 (세곡동)</td>\n",
       "      <td>SK에너지</td>\n",
       "      <td>02-445-6870</td>\n",
       "      <td>Y</td>\n",
       "      <td>-</td>\n",
       "      <td>1769</td>\n",
       "      <td>1668</td>\n",
       "      <td>-</td>\n",
       "    </tr>\n",
       "    <tr>\n",
       "      <th>1</th>\n",
       "      <td>서울특별시</td>\n",
       "      <td>삼성동주유소</td>\n",
       "      <td>서울 강남구 테헤란로 619 (삼성동)</td>\n",
       "      <td>HD현대오일뱅크</td>\n",
       "      <td>02-508-6572</td>\n",
       "      <td>Y</td>\n",
       "      <td>2025</td>\n",
       "      <td>1775</td>\n",
       "      <td>1735</td>\n",
       "      <td>-</td>\n",
       "    </tr>\n",
       "    <tr>\n",
       "      <th>2</th>\n",
       "      <td>서울특별시</td>\n",
       "      <td>HD현대오일뱅크㈜직영 산성셀프주유소</td>\n",
       "      <td>서울 강남구 헌릉로 730</td>\n",
       "      <td>HD현대오일뱅크</td>\n",
       "      <td>02-2226-4963</td>\n",
       "      <td>Y</td>\n",
       "      <td>1978</td>\n",
       "      <td>1798</td>\n",
       "      <td>1767</td>\n",
       "      <td>-</td>\n",
       "    </tr>\n",
       "  </tbody>\n",
       "</table>\n",
       "</div>"
      ],
      "text/plain": [
       "      지역                   상호                     주소        상표          전화번호  \\\n",
       "0  서울특별시          (주)보성 세곡주유소  서울 강남구  헌릉로 731 (세곡동)     SK에너지   02-445-6870   \n",
       "1  서울특별시               삼성동주유소  서울 강남구 테헤란로 619 (삼성동)  HD현대오일뱅크   02-508-6572   \n",
       "2  서울특별시  HD현대오일뱅크㈜직영 산성셀프주유소         서울 강남구 헌릉로 730  HD현대오일뱅크  02-2226-4963   \n",
       "\n",
       "  셀프여부 고급휘발유   휘발유    경유 실내등유  \n",
       "0    Y     -  1769  1668    -  \n",
       "1    Y  2025  1775  1735    -  \n",
       "2    Y  1978  1798  1767    -  "
      ]
     },
     "execution_count": 20,
     "metadata": {},
     "output_type": "execute_result"
    }
   ],
   "source": [
    "# conda activate base; pip\n",
    "filename = 'c:/Users/human/Downloads/지역_위치별(주유소).xls'\n",
    "df = pd.read_excel(filename, header=2)\n",
    "df.head(3)"
   ]
  },
  {
   "cell_type": "code",
   "execution_count": 21,
   "metadata": {},
   "outputs": [],
   "source": [
    "# 25개 파일을 읽어서 하나의 데이터프레임으로 만들기\n",
    "# df.list()리스트들이 => pd.concat(df.list) 하나의 프레임으로 만들어짐\n",
    "df_list = []\n",
    "for filename in glob('c:/Users/human/Downloads/지역*.xls'):\n",
    "    df = pd.read_excel(filename, header=2)\n",
    "    df_list.append(df)\n"
   ]
  },
  {
   "cell_type": "code",
   "execution_count": 22,
   "metadata": {},
   "outputs": [
    {
     "data": {
      "text/plain": [
       "(439, 10)"
      ]
     },
     "execution_count": 22,
     "metadata": {},
     "output_type": "execute_result"
    }
   ],
   "source": [
    "df = pd.concat(df_list)   # 25개의 엑셀 파일이 하나의 프레임으로 만들어진다. \n",
    "df.shape"
   ]
  },
  {
   "cell_type": "code",
   "execution_count": 23,
   "metadata": {},
   "outputs": [
    {
     "data": {
      "text/html": [
       "<div>\n",
       "<style scoped>\n",
       "    .dataframe tbody tr th:only-of-type {\n",
       "        vertical-align: middle;\n",
       "    }\n",
       "\n",
       "    .dataframe tbody tr th {\n",
       "        vertical-align: top;\n",
       "    }\n",
       "\n",
       "    .dataframe thead th {\n",
       "        text-align: right;\n",
       "    }\n",
       "</style>\n",
       "<table border=\"1\" class=\"dataframe\">\n",
       "  <thead>\n",
       "    <tr style=\"text-align: right;\">\n",
       "      <th></th>\n",
       "      <th>상호</th>\n",
       "      <th>주소</th>\n",
       "      <th>가격</th>\n",
       "      <th>셀프</th>\n",
       "      <th>상표</th>\n",
       "    </tr>\n",
       "  </thead>\n",
       "  <tbody>\n",
       "    <tr>\n",
       "      <th>0</th>\n",
       "      <td>재건에너지 재정제2주유소 고속셀프지점</td>\n",
       "      <td>서울특별시 강동구  천호대로 1246 (둔촌제2동)</td>\n",
       "      <td>1779</td>\n",
       "      <td>Y</td>\n",
       "      <td>HD현대오일뱅크</td>\n",
       "    </tr>\n",
       "    <tr>\n",
       "      <th>1</th>\n",
       "      <td>구천면주유소</td>\n",
       "      <td>서울 강동구 구천면로 357 (암사동)</td>\n",
       "      <td>1824</td>\n",
       "      <td>N</td>\n",
       "      <td>HD현대오일뱅크</td>\n",
       "    </tr>\n",
       "    <tr>\n",
       "      <th>2</th>\n",
       "      <td>(주)삼표에너지 고덕주유소</td>\n",
       "      <td>서울 강동구 고덕로 39 (암사동)</td>\n",
       "      <td>1835</td>\n",
       "      <td>Y</td>\n",
       "      <td>GS칼텍스</td>\n",
       "    </tr>\n",
       "    <tr>\n",
       "      <th>3</th>\n",
       "      <td>(주)소모 신월주유소</td>\n",
       "      <td>서울 강동구 양재대로 1323 (성내동)</td>\n",
       "      <td>1836</td>\n",
       "      <td>Y</td>\n",
       "      <td>GS칼텍스</td>\n",
       "    </tr>\n",
       "    <tr>\n",
       "      <th>4</th>\n",
       "      <td>대성석유(주)길동주유소</td>\n",
       "      <td>서울 강동구 천호대로 1168</td>\n",
       "      <td>1846</td>\n",
       "      <td>N</td>\n",
       "      <td>GS칼텍스</td>\n",
       "    </tr>\n",
       "  </tbody>\n",
       "</table>\n",
       "</div>"
      ],
      "text/plain": [
       "                     상호                            주소    가격 셀프        상표\n",
       "0  재건에너지 재정제2주유소 고속셀프지점  서울특별시 강동구  천호대로 1246 (둔촌제2동)  1779  Y  HD현대오일뱅크\n",
       "1                구천면주유소         서울 강동구 구천면로 357 (암사동)  1824  N  HD현대오일뱅크\n",
       "2        (주)삼표에너지 고덕주유소           서울 강동구 고덕로 39 (암사동)  1835  Y     GS칼텍스\n",
       "3           (주)소모 신월주유소        서울 강동구 양재대로 1323 (성내동)  1836  Y     GS칼텍스\n",
       "4          대성석유(주)길동주유소              서울 강동구 천호대로 1168  1846  N     GS칼텍스"
      ]
     },
     "execution_count": 23,
     "metadata": {},
     "output_type": "execute_result"
    }
   ],
   "source": [
    "df = df[['상호', '주소', '휘발유', '셀프여부', '상표']]\n",
    "df.rename(columns={'휘발유':'가격', '셀프여부':'셀프'}, inplace=True)\n",
    "df.head()"
   ]
  },
  {
   "cell_type": "code",
   "execution_count": 24,
   "metadata": {},
   "outputs": [
    {
     "data": {
      "text/html": [
       "<div>\n",
       "<style scoped>\n",
       "    .dataframe tbody tr th:only-of-type {\n",
       "        vertical-align: middle;\n",
       "    }\n",
       "\n",
       "    .dataframe tbody tr th {\n",
       "        vertical-align: top;\n",
       "    }\n",
       "\n",
       "    .dataframe thead th {\n",
       "        text-align: right;\n",
       "    }\n",
       "</style>\n",
       "<table border=\"1\" class=\"dataframe\">\n",
       "  <thead>\n",
       "    <tr style=\"text-align: right;\">\n",
       "      <th></th>\n",
       "      <th>상호</th>\n",
       "      <th>주소</th>\n",
       "      <th>가격</th>\n",
       "      <th>셀프</th>\n",
       "      <th>상표</th>\n",
       "    </tr>\n",
       "  </thead>\n",
       "  <tbody>\n",
       "    <tr>\n",
       "      <th>29</th>\n",
       "      <td>갤러리아주유소</td>\n",
       "      <td>서울 강남구 압구정로 426</td>\n",
       "      <td>2330</td>\n",
       "      <td>N</td>\n",
       "      <td>SK에너지</td>\n",
       "    </tr>\n",
       "    <tr>\n",
       "      <th>30</th>\n",
       "      <td>㈜새서울석유 새서울주유소</td>\n",
       "      <td>서울 강남구 압구정로 154</td>\n",
       "      <td>2348</td>\n",
       "      <td>N</td>\n",
       "      <td>HD현대오일뱅크</td>\n",
       "    </tr>\n",
       "    <tr>\n",
       "      <th>31</th>\n",
       "      <td>SK논현주유소</td>\n",
       "      <td>서울 강남구 논현로 747 (논현동)</td>\n",
       "      <td>2390</td>\n",
       "      <td>N</td>\n",
       "      <td>SK에너지</td>\n",
       "    </tr>\n",
       "    <tr>\n",
       "      <th>32</th>\n",
       "      <td>(주)제이제이네트웍스 제이제이주유소</td>\n",
       "      <td>서울 강남구 언주로 716</td>\n",
       "      <td>2560</td>\n",
       "      <td>N</td>\n",
       "      <td>HD현대오일뱅크</td>\n",
       "    </tr>\n",
       "    <tr>\n",
       "      <th>33</th>\n",
       "      <td>(주)만정에너지 삼보주유소</td>\n",
       "      <td>서울 강남구 봉은사로 433 (삼성동)</td>\n",
       "      <td>2598</td>\n",
       "      <td>N</td>\n",
       "      <td>GS칼텍스</td>\n",
       "    </tr>\n",
       "  </tbody>\n",
       "</table>\n",
       "</div>"
      ],
      "text/plain": [
       "                     상호                     주소    가격 셀프        상표\n",
       "29              갤러리아주유소        서울 강남구 압구정로 426  2330  N     SK에너지\n",
       "30        ㈜새서울석유 새서울주유소        서울 강남구 압구정로 154  2348  N  HD현대오일뱅크\n",
       "31              SK논현주유소   서울 강남구 논현로 747 (논현동)  2390  N     SK에너지\n",
       "32  (주)제이제이네트웍스 제이제이주유소         서울 강남구 언주로 716  2560  N  HD현대오일뱅크\n",
       "33       (주)만정에너지 삼보주유소  서울 강남구 봉은사로 433 (삼성동)  2598  N     GS칼텍스"
      ]
     },
     "execution_count": 24,
     "metadata": {},
     "output_type": "execute_result"
    }
   ],
   "source": [
    "df.tail()           # 인덱스 정리가 안된 상태."
   ]
  },
  {
   "cell_type": "code",
   "execution_count": 25,
   "metadata": {},
   "outputs": [
    {
     "data": {
      "text/html": [
       "<div>\n",
       "<style scoped>\n",
       "    .dataframe tbody tr th:only-of-type {\n",
       "        vertical-align: middle;\n",
       "    }\n",
       "\n",
       "    .dataframe tbody tr th {\n",
       "        vertical-align: top;\n",
       "    }\n",
       "\n",
       "    .dataframe thead th {\n",
       "        text-align: right;\n",
       "    }\n",
       "</style>\n",
       "<table border=\"1\" class=\"dataframe\">\n",
       "  <thead>\n",
       "    <tr style=\"text-align: right;\">\n",
       "      <th></th>\n",
       "      <th>상호</th>\n",
       "      <th>주소</th>\n",
       "      <th>가격</th>\n",
       "      <th>셀프</th>\n",
       "      <th>상표</th>\n",
       "    </tr>\n",
       "  </thead>\n",
       "  <tbody>\n",
       "    <tr>\n",
       "      <th>434</th>\n",
       "      <td>갤러리아주유소</td>\n",
       "      <td>서울 강남구 압구정로 426</td>\n",
       "      <td>2330</td>\n",
       "      <td>N</td>\n",
       "      <td>SK에너지</td>\n",
       "    </tr>\n",
       "    <tr>\n",
       "      <th>435</th>\n",
       "      <td>㈜새서울석유 새서울주유소</td>\n",
       "      <td>서울 강남구 압구정로 154</td>\n",
       "      <td>2348</td>\n",
       "      <td>N</td>\n",
       "      <td>HD현대오일뱅크</td>\n",
       "    </tr>\n",
       "    <tr>\n",
       "      <th>436</th>\n",
       "      <td>SK논현주유소</td>\n",
       "      <td>서울 강남구 논현로 747 (논현동)</td>\n",
       "      <td>2390</td>\n",
       "      <td>N</td>\n",
       "      <td>SK에너지</td>\n",
       "    </tr>\n",
       "    <tr>\n",
       "      <th>437</th>\n",
       "      <td>(주)제이제이네트웍스 제이제이주유소</td>\n",
       "      <td>서울 강남구 언주로 716</td>\n",
       "      <td>2560</td>\n",
       "      <td>N</td>\n",
       "      <td>HD현대오일뱅크</td>\n",
       "    </tr>\n",
       "    <tr>\n",
       "      <th>438</th>\n",
       "      <td>(주)만정에너지 삼보주유소</td>\n",
       "      <td>서울 강남구 봉은사로 433 (삼성동)</td>\n",
       "      <td>2598</td>\n",
       "      <td>N</td>\n",
       "      <td>GS칼텍스</td>\n",
       "    </tr>\n",
       "  </tbody>\n",
       "</table>\n",
       "</div>"
      ],
      "text/plain": [
       "                      상호                     주소    가격 셀프        상표\n",
       "434              갤러리아주유소        서울 강남구 압구정로 426  2330  N     SK에너지\n",
       "435        ㈜새서울석유 새서울주유소        서울 강남구 압구정로 154  2348  N  HD현대오일뱅크\n",
       "436              SK논현주유소   서울 강남구 논현로 747 (논현동)  2390  N     SK에너지\n",
       "437  (주)제이제이네트웍스 제이제이주유소         서울 강남구 언주로 716  2560  N  HD현대오일뱅크\n",
       "438       (주)만정에너지 삼보주유소  서울 강남구 봉은사로 433 (삼성동)  2598  N     GS칼텍스"
      ]
     },
     "execution_count": 25,
     "metadata": {},
     "output_type": "execute_result"
    }
   ],
   "source": [
    "df.set_index('상호', inplace=True)\n",
    "df.reset_index(inplace=True)\n",
    "df.tail()\n",
    "\n",
    "# 전에 df = pd.concat(df_list) 으로 25개 파일을 하나로 합쳤기 때문에 400여개의 주유소가 나옴"
   ]
  },
  {
   "cell_type": "code",
   "execution_count": 26,
   "metadata": {},
   "outputs": [
    {
     "data": {
      "text/html": [
       "<div>\n",
       "<style scoped>\n",
       "    .dataframe tbody tr th:only-of-type {\n",
       "        vertical-align: middle;\n",
       "    }\n",
       "\n",
       "    .dataframe tbody tr th {\n",
       "        vertical-align: top;\n",
       "    }\n",
       "\n",
       "    .dataframe thead th {\n",
       "        text-align: right;\n",
       "    }\n",
       "</style>\n",
       "<table border=\"1\" class=\"dataframe\">\n",
       "  <thead>\n",
       "    <tr style=\"text-align: right;\">\n",
       "      <th></th>\n",
       "      <th>상호</th>\n",
       "      <th>주소</th>\n",
       "      <th>가격</th>\n",
       "      <th>셀프</th>\n",
       "      <th>상표</th>\n",
       "      <th>구</th>\n",
       "    </tr>\n",
       "  </thead>\n",
       "  <tbody>\n",
       "    <tr>\n",
       "      <th>0</th>\n",
       "      <td>재건에너지 재정제2주유소 고속셀프지점</td>\n",
       "      <td>서울특별시 강동구  천호대로 1246 (둔촌제2동)</td>\n",
       "      <td>1779</td>\n",
       "      <td>Y</td>\n",
       "      <td>HD현대오일뱅크</td>\n",
       "      <td>강동구</td>\n",
       "    </tr>\n",
       "    <tr>\n",
       "      <th>1</th>\n",
       "      <td>구천면주유소</td>\n",
       "      <td>서울 강동구 구천면로 357 (암사동)</td>\n",
       "      <td>1824</td>\n",
       "      <td>N</td>\n",
       "      <td>HD현대오일뱅크</td>\n",
       "      <td>강동구</td>\n",
       "    </tr>\n",
       "    <tr>\n",
       "      <th>2</th>\n",
       "      <td>(주)삼표에너지 고덕주유소</td>\n",
       "      <td>서울 강동구 고덕로 39 (암사동)</td>\n",
       "      <td>1835</td>\n",
       "      <td>Y</td>\n",
       "      <td>GS칼텍스</td>\n",
       "      <td>강동구</td>\n",
       "    </tr>\n",
       "    <tr>\n",
       "      <th>3</th>\n",
       "      <td>(주)소모 신월주유소</td>\n",
       "      <td>서울 강동구 양재대로 1323 (성내동)</td>\n",
       "      <td>1836</td>\n",
       "      <td>Y</td>\n",
       "      <td>GS칼텍스</td>\n",
       "      <td>강동구</td>\n",
       "    </tr>\n",
       "    <tr>\n",
       "      <th>4</th>\n",
       "      <td>대성석유(주)길동주유소</td>\n",
       "      <td>서울 강동구 천호대로 1168</td>\n",
       "      <td>1846</td>\n",
       "      <td>N</td>\n",
       "      <td>GS칼텍스</td>\n",
       "      <td>강동구</td>\n",
       "    </tr>\n",
       "  </tbody>\n",
       "</table>\n",
       "</div>"
      ],
      "text/plain": [
       "                     상호                            주소    가격 셀프        상표    구\n",
       "0  재건에너지 재정제2주유소 고속셀프지점  서울특별시 강동구  천호대로 1246 (둔촌제2동)  1779  Y  HD현대오일뱅크  강동구\n",
       "1                구천면주유소         서울 강동구 구천면로 357 (암사동)  1824  N  HD현대오일뱅크  강동구\n",
       "2        (주)삼표에너지 고덕주유소           서울 강동구 고덕로 39 (암사동)  1835  Y     GS칼텍스  강동구\n",
       "3           (주)소모 신월주유소        서울 강동구 양재대로 1323 (성내동)  1836  Y     GS칼텍스  강동구\n",
       "4          대성석유(주)길동주유소              서울 강동구 천호대로 1168  1846  N     GS칼텍스  강동구"
      ]
     },
     "execution_count": 26,
     "metadata": {},
     "output_type": "execute_result"
    }
   ],
   "source": [
    "df['구'] = df.주소.apply(lambda x: x.split()[1])\n",
    "df.head()"
   ]
  },
  {
   "cell_type": "code",
   "execution_count": 27,
   "metadata": {},
   "outputs": [
    {
     "data": {
      "text/plain": [
       "array(['강동구', '동대문구', '동작구', '마포구', '서대문구', '서초구', '성동구', '성북구', '송파구',\n",
       "       '양천구', '영등포구', '강북구', '용산구', '은평구', '종로구', '중구', '중랑구', '강서구',\n",
       "       '관악구', '광진구', '구로구', '금천구', '노원구', '도봉구', '강남구'], dtype=object)"
      ]
     },
     "execution_count": 27,
     "metadata": {},
     "output_type": "execute_result"
    }
   ],
   "source": [
    "df.구.unique()"
   ]
  },
  {
   "cell_type": "code",
   "execution_count": 28,
   "metadata": {},
   "outputs": [
    {
     "data": {
      "text/plain": [
       "numpy.int64"
      ]
     },
     "execution_count": 28,
     "metadata": {},
     "output_type": "execute_result"
    }
   ],
   "source": [
    "type(df.가격[0])"
   ]
  },
  {
   "cell_type": "code",
   "execution_count": 29,
   "metadata": {},
   "outputs": [
    {
     "data": {
      "text/html": [
       "<div>\n",
       "<style scoped>\n",
       "    .dataframe tbody tr th:only-of-type {\n",
       "        vertical-align: middle;\n",
       "    }\n",
       "\n",
       "    .dataframe tbody tr th {\n",
       "        vertical-align: top;\n",
       "    }\n",
       "\n",
       "    .dataframe thead th {\n",
       "        text-align: right;\n",
       "    }\n",
       "</style>\n",
       "<table border=\"1\" class=\"dataframe\">\n",
       "  <thead>\n",
       "    <tr style=\"text-align: right;\">\n",
       "      <th></th>\n",
       "      <th>상호</th>\n",
       "      <th>주소</th>\n",
       "      <th>가격</th>\n",
       "      <th>셀프</th>\n",
       "      <th>상표</th>\n",
       "      <th>구</th>\n",
       "    </tr>\n",
       "  </thead>\n",
       "  <tbody>\n",
       "    <tr>\n",
       "      <th>0</th>\n",
       "      <td>재건에너지 재정제2주유소 고속셀프지점</td>\n",
       "      <td>서울특별시 강동구  천호대로 1246 (둔촌제2동)</td>\n",
       "      <td>1779</td>\n",
       "      <td>Y</td>\n",
       "      <td>HD현대오일뱅크</td>\n",
       "      <td>강동구</td>\n",
       "    </tr>\n",
       "    <tr>\n",
       "      <th>1</th>\n",
       "      <td>구천면주유소</td>\n",
       "      <td>서울 강동구 구천면로 357 (암사동)</td>\n",
       "      <td>1824</td>\n",
       "      <td>N</td>\n",
       "      <td>HD현대오일뱅크</td>\n",
       "      <td>강동구</td>\n",
       "    </tr>\n",
       "    <tr>\n",
       "      <th>2</th>\n",
       "      <td>(주)삼표에너지 고덕주유소</td>\n",
       "      <td>서울 강동구 고덕로 39 (암사동)</td>\n",
       "      <td>1835</td>\n",
       "      <td>Y</td>\n",
       "      <td>GS칼텍스</td>\n",
       "      <td>강동구</td>\n",
       "    </tr>\n",
       "    <tr>\n",
       "      <th>3</th>\n",
       "      <td>(주)소모 신월주유소</td>\n",
       "      <td>서울 강동구 양재대로 1323 (성내동)</td>\n",
       "      <td>1836</td>\n",
       "      <td>Y</td>\n",
       "      <td>GS칼텍스</td>\n",
       "      <td>강동구</td>\n",
       "    </tr>\n",
       "    <tr>\n",
       "      <th>4</th>\n",
       "      <td>대성석유(주)길동주유소</td>\n",
       "      <td>서울 강동구 천호대로 1168</td>\n",
       "      <td>1846</td>\n",
       "      <td>N</td>\n",
       "      <td>GS칼텍스</td>\n",
       "      <td>강동구</td>\n",
       "    </tr>\n",
       "    <tr>\n",
       "      <th>...</th>\n",
       "      <td>...</td>\n",
       "      <td>...</td>\n",
       "      <td>...</td>\n",
       "      <td>...</td>\n",
       "      <td>...</td>\n",
       "      <td>...</td>\n",
       "    </tr>\n",
       "    <tr>\n",
       "      <th>434</th>\n",
       "      <td>갤러리아주유소</td>\n",
       "      <td>서울 강남구 압구정로 426</td>\n",
       "      <td>2330</td>\n",
       "      <td>N</td>\n",
       "      <td>SK에너지</td>\n",
       "      <td>강남구</td>\n",
       "    </tr>\n",
       "    <tr>\n",
       "      <th>435</th>\n",
       "      <td>㈜새서울석유 새서울주유소</td>\n",
       "      <td>서울 강남구 압구정로 154</td>\n",
       "      <td>2348</td>\n",
       "      <td>N</td>\n",
       "      <td>HD현대오일뱅크</td>\n",
       "      <td>강남구</td>\n",
       "    </tr>\n",
       "    <tr>\n",
       "      <th>436</th>\n",
       "      <td>SK논현주유소</td>\n",
       "      <td>서울 강남구 논현로 747 (논현동)</td>\n",
       "      <td>2390</td>\n",
       "      <td>N</td>\n",
       "      <td>SK에너지</td>\n",
       "      <td>강남구</td>\n",
       "    </tr>\n",
       "    <tr>\n",
       "      <th>437</th>\n",
       "      <td>(주)제이제이네트웍스 제이제이주유소</td>\n",
       "      <td>서울 강남구 언주로 716</td>\n",
       "      <td>2560</td>\n",
       "      <td>N</td>\n",
       "      <td>HD현대오일뱅크</td>\n",
       "      <td>강남구</td>\n",
       "    </tr>\n",
       "    <tr>\n",
       "      <th>438</th>\n",
       "      <td>(주)만정에너지 삼보주유소</td>\n",
       "      <td>서울 강남구 봉은사로 433 (삼성동)</td>\n",
       "      <td>2598</td>\n",
       "      <td>N</td>\n",
       "      <td>GS칼텍스</td>\n",
       "      <td>강남구</td>\n",
       "    </tr>\n",
       "  </tbody>\n",
       "</table>\n",
       "<p>439 rows × 6 columns</p>\n",
       "</div>"
      ],
      "text/plain": [
       "                       상호                            주소    가격 셀프        상표  \\\n",
       "0    재건에너지 재정제2주유소 고속셀프지점  서울특별시 강동구  천호대로 1246 (둔촌제2동)  1779  Y  HD현대오일뱅크   \n",
       "1                  구천면주유소         서울 강동구 구천면로 357 (암사동)  1824  N  HD현대오일뱅크   \n",
       "2          (주)삼표에너지 고덕주유소           서울 강동구 고덕로 39 (암사동)  1835  Y     GS칼텍스   \n",
       "3             (주)소모 신월주유소        서울 강동구 양재대로 1323 (성내동)  1836  Y     GS칼텍스   \n",
       "4            대성석유(주)길동주유소              서울 강동구 천호대로 1168  1846  N     GS칼텍스   \n",
       "..                    ...                           ...   ... ..       ...   \n",
       "434               갤러리아주유소               서울 강남구 압구정로 426  2330  N     SK에너지   \n",
       "435         ㈜새서울석유 새서울주유소               서울 강남구 압구정로 154  2348  N  HD현대오일뱅크   \n",
       "436               SK논현주유소          서울 강남구 논현로 747 (논현동)  2390  N     SK에너지   \n",
       "437   (주)제이제이네트웍스 제이제이주유소                서울 강남구 언주로 716  2560  N  HD현대오일뱅크   \n",
       "438        (주)만정에너지 삼보주유소         서울 강남구 봉은사로 433 (삼성동)  2598  N     GS칼텍스   \n",
       "\n",
       "       구  \n",
       "0    강동구  \n",
       "1    강동구  \n",
       "2    강동구  \n",
       "3    강동구  \n",
       "4    강동구  \n",
       "..   ...  \n",
       "434  강남구  \n",
       "435  강남구  \n",
       "436  강남구  \n",
       "437  강남구  \n",
       "438  강남구  \n",
       "\n",
       "[439 rows x 6 columns]"
      ]
     },
     "execution_count": 29,
     "metadata": {},
     "output_type": "execute_result"
    }
   ],
   "source": [
    "df.to_csv('data/opinet_20230919.csv',index=False)\n",
    "pd.read_csv('data/opinet_20230919.csv')"
   ]
  },
  {
   "cell_type": "markdown",
   "metadata": {},
   "source": [
    "##### 3. 셀프 주유소가 정말 저렴할까?\n"
   ]
  },
  {
   "cell_type": "code",
   "execution_count": 30,
   "metadata": {},
   "outputs": [
    {
     "data": {
      "text/html": [
       "<div>\n",
       "<style scoped>\n",
       "    .dataframe tbody tr th:only-of-type {\n",
       "        vertical-align: middle;\n",
       "    }\n",
       "\n",
       "    .dataframe tbody tr th {\n",
       "        vertical-align: top;\n",
       "    }\n",
       "\n",
       "    .dataframe thead tr th {\n",
       "        text-align: left;\n",
       "    }\n",
       "\n",
       "    .dataframe thead tr:last-of-type th {\n",
       "        text-align: right;\n",
       "    }\n",
       "</style>\n",
       "<table border=\"1\" class=\"dataframe\">\n",
       "  <thead>\n",
       "    <tr>\n",
       "      <th></th>\n",
       "      <th>count</th>\n",
       "      <th>mean</th>\n",
       "      <th>min</th>\n",
       "      <th>max</th>\n",
       "      <th>std</th>\n",
       "      <th>var</th>\n",
       "    </tr>\n",
       "    <tr>\n",
       "      <th></th>\n",
       "      <th>가격</th>\n",
       "      <th>가격</th>\n",
       "      <th>가격</th>\n",
       "      <th>가격</th>\n",
       "      <th>가격</th>\n",
       "      <th>가격</th>\n",
       "    </tr>\n",
       "    <tr>\n",
       "      <th>셀프</th>\n",
       "      <th></th>\n",
       "      <th></th>\n",
       "      <th></th>\n",
       "      <th></th>\n",
       "      <th></th>\n",
       "      <th></th>\n",
       "    </tr>\n",
       "  </thead>\n",
       "  <tbody>\n",
       "    <tr>\n",
       "      <th>N</th>\n",
       "      <td>172</td>\n",
       "      <td>1951.569767</td>\n",
       "      <td>1694</td>\n",
       "      <td>2776</td>\n",
       "      <td>217.090519</td>\n",
       "      <td>47128.293350</td>\n",
       "    </tr>\n",
       "    <tr>\n",
       "      <th>Y</th>\n",
       "      <td>267</td>\n",
       "      <td>1803.516854</td>\n",
       "      <td>1724</td>\n",
       "      <td>2278</td>\n",
       "      <td>55.076866</td>\n",
       "      <td>3033.461181</td>\n",
       "    </tr>\n",
       "  </tbody>\n",
       "</table>\n",
       "</div>"
      ],
      "text/plain": [
       "   count         mean   min   max         std           var\n",
       "      가격           가격    가격    가격          가격            가격\n",
       "셀프                                                         \n",
       "N    172  1951.569767  1694  2776  217.090519  47128.293350\n",
       "Y    267  1803.516854  1724  2278   55.076866   3033.461181"
      ]
     },
     "execution_count": 30,
     "metadata": {},
     "output_type": "execute_result"
    }
   ],
   "source": [
    "# 돗수, 평균, 최소, 최대 가격을 구하라!\n",
    "\n",
    "df.pivot_table('가격', '셀프', aggfunc=['count', 'mean', 'min', 'max', 'std', 'var'])\n"
   ]
  },
  {
   "cell_type": "markdown",
   "metadata": {},
   "source": [
    "- 셀프 여부에 따른 가격의 Boxplot"
   ]
  },
  {
   "cell_type": "code",
   "execution_count": 31,
   "metadata": {},
   "outputs": [],
   "source": [
    "import seaborn as sns\n",
    "import matplotlib.pyplot as plt\n",
    "plt.rcParams['font.family'] = 'Malgun Gothic'\n",
    "plt.rcParams['axes.unicode_minus'] = False"
   ]
  },
  {
   "cell_type": "code",
   "execution_count": 32,
   "metadata": {},
   "outputs": [
    {
     "data": {
      "image/png": "[encoded data removed]",
      "text/plain": [
       "<Figure size 640x480 with 1 Axes>"
      ]
     },
     "metadata": {},
     "output_type": "display_data"
    }
   ],
   "source": [
    "sns.boxplot(df, x='셀프', y='가격')\n",
    "plt.title('셀프 여부에 따른 가격의 boxplot');"
   ]
  },
  {
   "cell_type": "code",
   "execution_count": 33,
   "metadata": {},
   "outputs": [
    {
     "data": {
      "text/plain": [
       "'\\n가설 검정( 통계 자료로 사용할 경우 )\\nHO : 귀무가설 \\n    -통계학에서 처음부터 버릴 것을 예상하는 가설,\\n    차이가 없거나 의미있는 차이가 없는 경우의 가설이며 이것이 맞거나 맞지 않다는 \\n    통계학적 증거를 통해 증명하려는 가설\\n    \\n    A (셀프 주유소) == B (셀프 주유소X)\\n\\nH1, Ha : 대립가설\\n        - 어떤 가능성에 대해 확률적인 가설검정을 할 때 귀무가설과 함께 사용된다.\\n         이 가설은 귀무가설처럼 검정을 직접 수행하기는 불가능하며 귀무가설을 기각함으로써 \\n         받아들여지는 반증의 과정을 거쳐 받아들여질 수 있음.\\n    \\n    A (셀프 주유소) != B (셀프 주유소X)\\n\\nT-test\\n- 검정 통계량\\n- P-value < 0.05 보다 작으면 대립가설 Ha를 채택\\n- P-value > 0.05 보다 크면 귀무가설 H0를 채택\\n\\n'"
      ]
     },
     "execution_count": 33,
     "metadata": {},
     "output_type": "execute_result"
    }
   ],
   "source": [
    "\"\"\"\n",
    "가설 검정( 통계 자료로 사용할 경우 )\n",
    "HO : 귀무가설 \n",
    "    -통계학에서 처음부터 버릴 것을 예상하는 가설,\n",
    "    차이가 없거나 의미있는 차이가 없는 경우의 가설이며 이것이 맞거나 맞지 않다는 \n",
    "    통계학적 증거를 통해 증명하려는 가설\n",
    "    \n",
    "    A (셀프 주유소) == B (셀프 주유소X)\n",
    "\n",
    "H1, Ha : 대립가설\n",
    "        - 어떤 가능성에 대해 확률적인 가설검정을 할 때 귀무가설과 함께 사용된다.\n",
    "         이 가설은 귀무가설처럼 검정을 직접 수행하기는 불가능하며 귀무가설을 기각함으로써 \n",
    "         받아들여지는 반증의 과정을 거쳐 받아들여질 수 있음.\n",
    "    \n",
    "    A (셀프 주유소) != B (셀프 주유소X)\n",
    "\n",
    "T-test\n",
    "- 검정 통계량\n",
    "- P-value < 0.05 보다 작으면 대립가설 Ha를 채택\n",
    "- P-value > 0.05 보다 크면 귀무가설 H0를 채택\n",
    "\n",
    "\"\"\""
   ]
  },
  {
   "cell_type": "markdown",
   "metadata": {},
   "source": [
    "![Alt text](image-6.png)\n",
    "![Alt text](image-7.png)"
   ]
  },
  {
   "cell_type": "markdown",
   "metadata": {},
   "source": [
    "- 가설검정(2-sample T test)"
   ]
  },
  {
   "cell_type": "code",
   "execution_count": 34,
   "metadata": {},
   "outputs": [
    {
     "data": {
      "text/plain": [
       "Ttest_indResult(statistic=-8.764318261660941, pvalue=1.1872099639549585e-15)"
      ]
     },
     "execution_count": 34,
     "metadata": {},
     "output_type": "execute_result"
    }
   ],
   "source": [
    "import scipy as sp  # 아나콘다 설치하면 자동으로 설치 되는 프로그램\n",
    "sp.stats.ttest_ind(df[df.셀프=='Y'].가격, df[df.셀프 == 'N'].가격,equal_var=False)"
   ]
  },
  {
   "cell_type": "code",
   "execution_count": 35,
   "metadata": {},
   "outputs": [],
   "source": [
    "# p-value가 0.05보다 (훨씬) 작으므로 귀무가설 기각, 대립가설 채택.\n",
    "#  - 귀무가설(H0): 셀프 주유소와 일반 주유소의 가격차이가 없다.\n",
    "#  - 대립가설(H1): 셀프 주유소와 일반 주유소의 가격 차이가 있다."
   ]
  },
  {
   "cell_type": "markdown",
   "metadata": {},
   "source": [
    "- 상표별로 가격 비교하기"
   ]
  },
  {
   "cell_type": "code",
   "execution_count": 36,
   "metadata": {},
   "outputs": [
    {
     "data": {
      "image/png": "[encoded data removed]",
      "text/plain": [
       "<Figure size 640x480 with 1 Axes>"
      ]
     },
     "metadata": {},
     "output_type": "display_data"
    }
   ],
   "source": [
    "sns.boxplot(df, x='상표', y='가격')\n",
    "plt.title('상표별 가격의 boxplot');"
   ]
  },
  {
   "cell_type": "code",
   "execution_count": 37,
   "metadata": {},
   "outputs": [],
   "source": [
    "import seaborn as sns"
   ]
  },
  {
   "cell_type": "code",
   "execution_count": 38,
   "metadata": {},
   "outputs": [
    {
     "data": {
      "image/png": "[encoded data removed]",
      "text/plain": [
       "<Figure size 1200x500 with 1 Axes>"
      ]
     },
     "metadata": {},
     "output_type": "display_data"
    }
   ],
   "source": [
    "# 상표별 평균 가격의 막대 그래프\n",
    "\n",
    "plt.figure(figsize=(12,5))\n",
    "sns.barplot(y='상표', x='가격', data=df)\n",
    "plt.title('상표별 평균 가격')\n",
    "plt.show()"
   ]
  },
  {
   "cell_type": "code",
   "execution_count": 39,
   "metadata": {},
   "outputs": [],
   "source": [
    "import numpy as np"
   ]
  },
  {
   "cell_type": "code",
   "execution_count": 40,
   "metadata": {},
   "outputs": [
    {
     "data": {
      "text/html": [
       "<div>\n",
       "<style scoped>\n",
       "    .dataframe tbody tr th:only-of-type {\n",
       "        vertical-align: middle;\n",
       "    }\n",
       "\n",
       "    .dataframe tbody tr th {\n",
       "        vertical-align: top;\n",
       "    }\n",
       "\n",
       "    .dataframe thead tr th {\n",
       "        text-align: left;\n",
       "    }\n",
       "\n",
       "    .dataframe thead tr:last-of-type th {\n",
       "        text-align: right;\n",
       "    }\n",
       "</style>\n",
       "<table border=\"1\" class=\"dataframe\">\n",
       "  <thead>\n",
       "    <tr>\n",
       "      <th></th>\n",
       "      <th>count</th>\n",
       "      <th>mean</th>\n",
       "      <th>min</th>\n",
       "      <th>max</th>\n",
       "      <th>std</th>\n",
       "      <th>var</th>\n",
       "    </tr>\n",
       "    <tr>\n",
       "      <th></th>\n",
       "      <th>가격</th>\n",
       "      <th>가격</th>\n",
       "      <th>가격</th>\n",
       "      <th>가격</th>\n",
       "      <th>가격</th>\n",
       "      <th>가격</th>\n",
       "    </tr>\n",
       "    <tr>\n",
       "      <th>구</th>\n",
       "      <th></th>\n",
       "      <th></th>\n",
       "      <th></th>\n",
       "      <th></th>\n",
       "      <th></th>\n",
       "      <th></th>\n",
       "    </tr>\n",
       "  </thead>\n",
       "  <tbody>\n",
       "    <tr>\n",
       "      <th>강남구</th>\n",
       "      <td>34</td>\n",
       "      <td>2027.352941</td>\n",
       "      <td>1769</td>\n",
       "      <td>2598</td>\n",
       "      <td>237.213864</td>\n",
       "      <td>56270.417112</td>\n",
       "    </tr>\n",
       "    <tr>\n",
       "      <th>강동구</th>\n",
       "      <td>14</td>\n",
       "      <td>1882.500000</td>\n",
       "      <td>1779</td>\n",
       "      <td>2118</td>\n",
       "      <td>90.352940</td>\n",
       "      <td>8163.653846</td>\n",
       "    </tr>\n",
       "    <tr>\n",
       "      <th>강북구</th>\n",
       "      <td>12</td>\n",
       "      <td>1785.500000</td>\n",
       "      <td>1764</td>\n",
       "      <td>1847</td>\n",
       "      <td>22.309802</td>\n",
       "      <td>497.727273</td>\n",
       "    </tr>\n",
       "    <tr>\n",
       "      <th>강서구</th>\n",
       "      <td>33</td>\n",
       "      <td>1813.727273</td>\n",
       "      <td>1735</td>\n",
       "      <td>2133</td>\n",
       "      <td>79.080763</td>\n",
       "      <td>6253.767045</td>\n",
       "    </tr>\n",
       "    <tr>\n",
       "      <th>관악구</th>\n",
       "      <td>14</td>\n",
       "      <td>1828.071429</td>\n",
       "      <td>1775</td>\n",
       "      <td>1929</td>\n",
       "      <td>49.854348</td>\n",
       "      <td>2485.456044</td>\n",
       "    </tr>\n",
       "    <tr>\n",
       "      <th>광진구</th>\n",
       "      <td>13</td>\n",
       "      <td>1803.307692</td>\n",
       "      <td>1765</td>\n",
       "      <td>1947</td>\n",
       "      <td>61.337026</td>\n",
       "      <td>3762.230769</td>\n",
       "    </tr>\n",
       "    <tr>\n",
       "      <th>구로구</th>\n",
       "      <td>19</td>\n",
       "      <td>1829.421053</td>\n",
       "      <td>1729</td>\n",
       "      <td>2340</td>\n",
       "      <td>138.331050</td>\n",
       "      <td>19135.479532</td>\n",
       "    </tr>\n",
       "    <tr>\n",
       "      <th>금천구</th>\n",
       "      <td>11</td>\n",
       "      <td>1798.272727</td>\n",
       "      <td>1765</td>\n",
       "      <td>1818</td>\n",
       "      <td>15.511872</td>\n",
       "      <td>240.618182</td>\n",
       "    </tr>\n",
       "    <tr>\n",
       "      <th>노원구</th>\n",
       "      <td>14</td>\n",
       "      <td>1810.500000</td>\n",
       "      <td>1769</td>\n",
       "      <td>1900</td>\n",
       "      <td>39.949487</td>\n",
       "      <td>1595.961538</td>\n",
       "    </tr>\n",
       "    <tr>\n",
       "      <th>도봉구</th>\n",
       "      <td>16</td>\n",
       "      <td>1782.187500</td>\n",
       "      <td>1746</td>\n",
       "      <td>1852</td>\n",
       "      <td>29.478170</td>\n",
       "      <td>868.962500</td>\n",
       "    </tr>\n",
       "    <tr>\n",
       "      <th>동대문구</th>\n",
       "      <td>18</td>\n",
       "      <td>1807.500000</td>\n",
       "      <td>1759</td>\n",
       "      <td>1858</td>\n",
       "      <td>27.451026</td>\n",
       "      <td>753.558824</td>\n",
       "    </tr>\n",
       "    <tr>\n",
       "      <th>동작구</th>\n",
       "      <td>9</td>\n",
       "      <td>1829.777778</td>\n",
       "      <td>1790</td>\n",
       "      <td>1925</td>\n",
       "      <td>39.735934</td>\n",
       "      <td>1578.944444</td>\n",
       "    </tr>\n",
       "    <tr>\n",
       "      <th>마포구</th>\n",
       "      <td>11</td>\n",
       "      <td>1852.090909</td>\n",
       "      <td>1787</td>\n",
       "      <td>1919</td>\n",
       "      <td>45.846384</td>\n",
       "      <td>2101.890909</td>\n",
       "    </tr>\n",
       "    <tr>\n",
       "      <th>서대문구</th>\n",
       "      <td>15</td>\n",
       "      <td>1816.400000</td>\n",
       "      <td>1782</td>\n",
       "      <td>1893</td>\n",
       "      <td>39.539853</td>\n",
       "      <td>1563.400000</td>\n",
       "    </tr>\n",
       "    <tr>\n",
       "      <th>서초구</th>\n",
       "      <td>30</td>\n",
       "      <td>1842.200000</td>\n",
       "      <td>1724</td>\n",
       "      <td>2098</td>\n",
       "      <td>75.186389</td>\n",
       "      <td>5652.993103</td>\n",
       "    </tr>\n",
       "    <tr>\n",
       "      <th>성동구</th>\n",
       "      <td>16</td>\n",
       "      <td>1924.312500</td>\n",
       "      <td>1765</td>\n",
       "      <td>2388</td>\n",
       "      <td>181.842320</td>\n",
       "      <td>33066.629167</td>\n",
       "    </tr>\n",
       "    <tr>\n",
       "      <th>성북구</th>\n",
       "      <td>23</td>\n",
       "      <td>1794.652174</td>\n",
       "      <td>1763</td>\n",
       "      <td>1925</td>\n",
       "      <td>36.684910</td>\n",
       "      <td>1345.782609</td>\n",
       "    </tr>\n",
       "    <tr>\n",
       "      <th>송파구</th>\n",
       "      <td>28</td>\n",
       "      <td>1818.535714</td>\n",
       "      <td>1768</td>\n",
       "      <td>1998</td>\n",
       "      <td>46.988164</td>\n",
       "      <td>2207.887566</td>\n",
       "    </tr>\n",
       "    <tr>\n",
       "      <th>양천구</th>\n",
       "      <td>24</td>\n",
       "      <td>1788.083333</td>\n",
       "      <td>1737</td>\n",
       "      <td>1899</td>\n",
       "      <td>35.550230</td>\n",
       "      <td>1263.818841</td>\n",
       "    </tr>\n",
       "    <tr>\n",
       "      <th>영등포구</th>\n",
       "      <td>26</td>\n",
       "      <td>1855.153846</td>\n",
       "      <td>1747</td>\n",
       "      <td>2260</td>\n",
       "      <td>157.023996</td>\n",
       "      <td>24656.535385</td>\n",
       "    </tr>\n",
       "    <tr>\n",
       "      <th>용산구</th>\n",
       "      <td>12</td>\n",
       "      <td>2244.083333</td>\n",
       "      <td>1948</td>\n",
       "      <td>2773</td>\n",
       "      <td>206.461292</td>\n",
       "      <td>42626.265152</td>\n",
       "    </tr>\n",
       "    <tr>\n",
       "      <th>은평구</th>\n",
       "      <td>15</td>\n",
       "      <td>1777.800000</td>\n",
       "      <td>1694</td>\n",
       "      <td>1868</td>\n",
       "      <td>39.598341</td>\n",
       "      <td>1568.028571</td>\n",
       "    </tr>\n",
       "    <tr>\n",
       "      <th>종로구</th>\n",
       "      <td>9</td>\n",
       "      <td>2087.333333</td>\n",
       "      <td>1788</td>\n",
       "      <td>2370</td>\n",
       "      <td>247.093100</td>\n",
       "      <td>61055.000000</td>\n",
       "    </tr>\n",
       "    <tr>\n",
       "      <th>중구</th>\n",
       "      <td>10</td>\n",
       "      <td>2158.300000</td>\n",
       "      <td>1799</td>\n",
       "      <td>2776</td>\n",
       "      <td>334.632485</td>\n",
       "      <td>111978.900000</td>\n",
       "    </tr>\n",
       "    <tr>\n",
       "      <th>중랑구</th>\n",
       "      <td>13</td>\n",
       "      <td>1786.230769</td>\n",
       "      <td>1757</td>\n",
       "      <td>1859</td>\n",
       "      <td>26.568007</td>\n",
       "      <td>705.858974</td>\n",
       "    </tr>\n",
       "  </tbody>\n",
       "</table>\n",
       "</div>"
      ],
      "text/plain": [
       "     count         mean   min   max         std            var\n",
       "        가격           가격    가격    가격          가격             가격\n",
       "구                                                             \n",
       "강남구     34  2027.352941  1769  2598  237.213864   56270.417112\n",
       "강동구     14  1882.500000  1779  2118   90.352940    8163.653846\n",
       "강북구     12  1785.500000  1764  1847   22.309802     497.727273\n",
       "강서구     33  1813.727273  1735  2133   79.080763    6253.767045\n",
       "관악구     14  1828.071429  1775  1929   49.854348    2485.456044\n",
       "광진구     13  1803.307692  1765  1947   61.337026    3762.230769\n",
       "구로구     19  1829.421053  1729  2340  138.331050   19135.479532\n",
       "금천구     11  1798.272727  1765  1818   15.511872     240.618182\n",
       "노원구     14  1810.500000  1769  1900   39.949487    1595.961538\n",
       "도봉구     16  1782.187500  1746  1852   29.478170     868.962500\n",
       "동대문구    18  1807.500000  1759  1858   27.451026     753.558824\n",
       "동작구      9  1829.777778  1790  1925   39.735934    1578.944444\n",
       "마포구     11  1852.090909  1787  1919   45.846384    2101.890909\n",
       "서대문구    15  1816.400000  1782  1893   39.539853    1563.400000\n",
       "서초구     30  1842.200000  1724  2098   75.186389    5652.993103\n",
       "성동구     16  1924.312500  1765  2388  181.842320   33066.629167\n",
       "성북구     23  1794.652174  1763  1925   36.684910    1345.782609\n",
       "송파구     28  1818.535714  1768  1998   46.988164    2207.887566\n",
       "양천구     24  1788.083333  1737  1899   35.550230    1263.818841\n",
       "영등포구    26  1855.153846  1747  2260  157.023996   24656.535385\n",
       "용산구     12  2244.083333  1948  2773  206.461292   42626.265152\n",
       "은평구     15  1777.800000  1694  1868   39.598341    1568.028571\n",
       "종로구      9  2087.333333  1788  2370  247.093100   61055.000000\n",
       "중구      10  2158.300000  1799  2776  334.632485  111978.900000\n",
       "중랑구     13  1786.230769  1757  1859   26.568007     705.858974"
      ]
     },
     "execution_count": 40,
     "metadata": {},
     "output_type": "execute_result"
    }
   ],
   "source": [
    "# 구별 평균 가격 비교\n",
    "\n",
    "df.pivot_table('가격', '구', aggfunc=['count', 'mean', 'min', 'max', 'std', 'var'])"
   ]
  },
  {
   "cell_type": "code",
   "execution_count": 41,
   "metadata": {},
   "outputs": [
    {
     "data": {
      "text/plain": [
       "numpy.int64"
      ]
     },
     "execution_count": 41,
     "metadata": {},
     "output_type": "execute_result"
    }
   ],
   "source": [
    "type(df.가격[4])"
   ]
  },
  {
   "cell_type": "code",
   "execution_count": 42,
   "metadata": {},
   "outputs": [
    {
     "data": {
      "image/png": "[encoded data removed]",
      "text/plain": [
       "<Figure size 1200x800 with 1 Axes>"
      ]
     },
     "metadata": {},
     "output_type": "display_data"
    }
   ],
   "source": [
    "plt.figure(figsize=(12,8))\n",
    "sns.barplot(y='구', x='가격', data=df)\n",
    "plt.title('구별 평균 가격')\n",
    "plt.show()"
   ]
  },
  {
   "cell_type": "code",
   "execution_count": 47,
   "metadata": {},
   "outputs": [
    {
     "data": {
      "text/html": [
       "<div>\n",
       "<style scoped>\n",
       "    .dataframe tbody tr th:only-of-type {\n",
       "        vertical-align: middle;\n",
       "    }\n",
       "\n",
       "    .dataframe tbody tr th {\n",
       "        vertical-align: top;\n",
       "    }\n",
       "\n",
       "    .dataframe thead th {\n",
       "        text-align: right;\n",
       "    }\n",
       "</style>\n",
       "<table border=\"1\" class=\"dataframe\">\n",
       "  <thead>\n",
       "    <tr style=\"text-align: right;\">\n",
       "      <th></th>\n",
       "      <th>가격</th>\n",
       "    </tr>\n",
       "    <tr>\n",
       "      <th>구</th>\n",
       "      <th></th>\n",
       "    </tr>\n",
       "  </thead>\n",
       "  <tbody>\n",
       "    <tr>\n",
       "      <th>용산구</th>\n",
       "      <td>2244.083333</td>\n",
       "    </tr>\n",
       "    <tr>\n",
       "      <th>중구</th>\n",
       "      <td>2158.300000</td>\n",
       "    </tr>\n",
       "    <tr>\n",
       "      <th>종로구</th>\n",
       "      <td>2087.333333</td>\n",
       "    </tr>\n",
       "    <tr>\n",
       "      <th>강남구</th>\n",
       "      <td>2027.352941</td>\n",
       "    </tr>\n",
       "    <tr>\n",
       "      <th>성동구</th>\n",
       "      <td>1924.312500</td>\n",
       "    </tr>\n",
       "    <tr>\n",
       "      <th>강동구</th>\n",
       "      <td>1882.500000</td>\n",
       "    </tr>\n",
       "    <tr>\n",
       "      <th>영등포구</th>\n",
       "      <td>1855.153846</td>\n",
       "    </tr>\n",
       "    <tr>\n",
       "      <th>마포구</th>\n",
       "      <td>1852.090909</td>\n",
       "    </tr>\n",
       "    <tr>\n",
       "      <th>서초구</th>\n",
       "      <td>1842.200000</td>\n",
       "    </tr>\n",
       "    <tr>\n",
       "      <th>동작구</th>\n",
       "      <td>1829.777778</td>\n",
       "    </tr>\n",
       "    <tr>\n",
       "      <th>구로구</th>\n",
       "      <td>1829.421053</td>\n",
       "    </tr>\n",
       "    <tr>\n",
       "      <th>관악구</th>\n",
       "      <td>1828.071429</td>\n",
       "    </tr>\n",
       "    <tr>\n",
       "      <th>송파구</th>\n",
       "      <td>1818.535714</td>\n",
       "    </tr>\n",
       "    <tr>\n",
       "      <th>서대문구</th>\n",
       "      <td>1816.400000</td>\n",
       "    </tr>\n",
       "    <tr>\n",
       "      <th>강서구</th>\n",
       "      <td>1813.727273</td>\n",
       "    </tr>\n",
       "    <tr>\n",
       "      <th>노원구</th>\n",
       "      <td>1810.500000</td>\n",
       "    </tr>\n",
       "    <tr>\n",
       "      <th>동대문구</th>\n",
       "      <td>1807.500000</td>\n",
       "    </tr>\n",
       "    <tr>\n",
       "      <th>광진구</th>\n",
       "      <td>1803.307692</td>\n",
       "    </tr>\n",
       "    <tr>\n",
       "      <th>금천구</th>\n",
       "      <td>1798.272727</td>\n",
       "    </tr>\n",
       "    <tr>\n",
       "      <th>성북구</th>\n",
       "      <td>1794.652174</td>\n",
       "    </tr>\n",
       "    <tr>\n",
       "      <th>양천구</th>\n",
       "      <td>1788.083333</td>\n",
       "    </tr>\n",
       "    <tr>\n",
       "      <th>중랑구</th>\n",
       "      <td>1786.230769</td>\n",
       "    </tr>\n",
       "    <tr>\n",
       "      <th>강북구</th>\n",
       "      <td>1785.500000</td>\n",
       "    </tr>\n",
       "    <tr>\n",
       "      <th>도봉구</th>\n",
       "      <td>1782.187500</td>\n",
       "    </tr>\n",
       "    <tr>\n",
       "      <th>은평구</th>\n",
       "      <td>1777.800000</td>\n",
       "    </tr>\n",
       "  </tbody>\n",
       "</table>\n",
       "</div>"
      ],
      "text/plain": [
       "               가격\n",
       "구                \n",
       "용산구   2244.083333\n",
       "중구    2158.300000\n",
       "종로구   2087.333333\n",
       "강남구   2027.352941\n",
       "성동구   1924.312500\n",
       "강동구   1882.500000\n",
       "영등포구  1855.153846\n",
       "마포구   1852.090909\n",
       "서초구   1842.200000\n",
       "동작구   1829.777778\n",
       "구로구   1829.421053\n",
       "관악구   1828.071429\n",
       "송파구   1818.535714\n",
       "서대문구  1816.400000\n",
       "강서구   1813.727273\n",
       "노원구   1810.500000\n",
       "동대문구  1807.500000\n",
       "광진구   1803.307692\n",
       "금천구   1798.272727\n",
       "성북구   1794.652174\n",
       "양천구   1788.083333\n",
       "중랑구   1786.230769\n",
       "강북구   1785.500000\n",
       "도봉구   1782.187500\n",
       "은평구   1777.800000"
      ]
     },
     "execution_count": 47,
     "metadata": {},
     "output_type": "execute_result"
    }
   ],
   "source": [
    "df2 = df.pivot_table('가격', '구').sort_values('가격', ascending=False)\n",
    "df2"
   ]
  },
  {
   "cell_type": "code",
   "execution_count": 50,
   "metadata": {},
   "outputs": [
    {
     "data": {
      "image/png": "[encoded data removed]",
      "text/plain": [
       "<Figure size 640x480 with 1 Axes>"
      ]
     },
     "metadata": {},
     "output_type": "display_data"
    }
   ],
   "source": [
    "sns.barplot(y=df2.index, x=df2.가격)\n",
    "plt.title('구별 평균 가격');"
   ]
  },
  {
   "cell_type": "code",
   "execution_count": 53,
   "metadata": {},
   "outputs": [
    {
     "data": {
      "text/html": [
       "<div>\n",
       "<style scoped>\n",
       "    .dataframe tbody tr th:only-of-type {\n",
       "        vertical-align: middle;\n",
       "    }\n",
       "\n",
       "    .dataframe tbody tr th {\n",
       "        vertical-align: top;\n",
       "    }\n",
       "\n",
       "    .dataframe thead th {\n",
       "        text-align: right;\n",
       "    }\n",
       "</style>\n",
       "<table border=\"1\" class=\"dataframe\">\n",
       "  <thead>\n",
       "    <tr style=\"text-align: right;\">\n",
       "      <th></th>\n",
       "      <th>가격</th>\n",
       "    </tr>\n",
       "    <tr>\n",
       "      <th>상표</th>\n",
       "      <th></th>\n",
       "    </tr>\n",
       "  </thead>\n",
       "  <tbody>\n",
       "    <tr>\n",
       "      <th>SK에너지</th>\n",
       "      <td>1894.286822</td>\n",
       "    </tr>\n",
       "    <tr>\n",
       "      <th>GS칼텍스</th>\n",
       "      <td>1891.223301</td>\n",
       "    </tr>\n",
       "    <tr>\n",
       "      <th>HD현대오일뱅크</th>\n",
       "      <td>1830.310345</td>\n",
       "    </tr>\n",
       "    <tr>\n",
       "      <th>S-OIL</th>\n",
       "      <td>1828.935897</td>\n",
       "    </tr>\n",
       "    <tr>\n",
       "      <th>자가상표</th>\n",
       "      <td>1828.000000</td>\n",
       "    </tr>\n",
       "    <tr>\n",
       "      <th>알뜰주유소</th>\n",
       "      <td>1769.700000</td>\n",
       "    </tr>\n",
       "    <tr>\n",
       "      <th>알뜰(ex)</th>\n",
       "      <td>1724.000000</td>\n",
       "    </tr>\n",
       "  </tbody>\n",
       "</table>\n",
       "</div>"
      ],
      "text/plain": [
       "                   가격\n",
       "상표                   \n",
       "SK에너지     1894.286822\n",
       "GS칼텍스     1891.223301\n",
       "HD현대오일뱅크  1830.310345\n",
       "S-OIL     1828.935897\n",
       "자가상표      1828.000000\n",
       "알뜰주유소     1769.700000\n",
       "알뜰(ex)    1724.000000"
      ]
     },
     "execution_count": 53,
     "metadata": {},
     "output_type": "execute_result"
    }
   ],
   "source": [
    "# 상표별 평균 가격의 막대 그래프\n",
    "df3 = df.pivot_table('가격', '상표')\n",
    "df3.sort_values('가격',ascending=False, inplace=True)\n",
    "df3"
   ]
  },
  {
   "cell_type": "code",
   "execution_count": 54,
   "metadata": {},
   "outputs": [
    {
     "data": {
      "text/plain": [
       "Text(0.5, 1.0, '')"
      ]
     },
     "execution_count": 54,
     "metadata": {},
     "output_type": "execute_result"
    },
    {
     "data": {
      "image/png": "[encoded data removed]",
      "text/plain": [
       "<Figure size 640x480 with 1 Axes>"
      ]
     },
     "metadata": {},
     "output_type": "display_data"
    }
   ],
   "source": [
    "sns.barplot(y=df3.index, x=df3.가격)\n",
    "plt.title('')"
   ]
  },
  {
   "cell_type": "code",
   "execution_count": null,
   "metadata": {},
   "outputs": [],
   "source": []
  }
 ],
 "metadata": {
  "kernelspec": {
   "display_name": "base",
   "language": "python",
   "name": "python3"
  },
  "language_info": {
   "codemirror_mode": {
    "name": "ipython",
    "version": 3
   },
   "file_extension": ".py",
   "mimetype": "text/x-python",
   "name": "python",
   "nbconvert_exporter": "python",
   "pygments_lexer": "ipython3",
   "version": "3.11.4"
  },
  "orig_nbformat": 4
 },
 "nbformat": 4,
 "nbformat_minor": 2
}
