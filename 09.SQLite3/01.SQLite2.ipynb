{
 "cells": [
  {
   "cell_type": "markdown",
   "metadata": {},
   "source": [
    "## SQLite3 활용"
   ]
  },
  {
   "cell_type": "code",
   "execution_count": 1,
   "metadata": {},
   "outputs": [],
   "source": [
    "import sqlite3 as sq"
   ]
  },
  {
   "cell_type": "markdown",
   "metadata": {},
   "source": [
    "- DB 에 접속해서 데이터 읽기"
   ]
  },
  {
   "cell_type": "code",
   "execution_count": 3,
   "metadata": {},
   "outputs": [],
   "source": [
    "# member table 에 있는 데이터 모두 읽기 \n",
    "conn = sq.connect('test.db')\n",
    "cur = conn.cursor()\n",
    "\n",
    "sql = 'select * from member'\n",
    "cur.execute(sql)\n",
    "rows = cur.fetchall()\n",
    "\n",
    "cur.close()\n",
    "conn.close()"
   ]
  },
  {
   "cell_type": "code",
   "execution_count": 4,
   "metadata": {},
   "outputs": [
    {
     "name": "stdout",
     "output_type": "stream",
     "text": [
      "(1, 'james', 25)\n",
      "(2, 'maria', 23)\n",
      "(3, 'tommy', 19)\n",
      "(4, 'emma', 27)\n"
     ]
    }
   ],
   "source": [
    "for row in rows:\n",
    "    print(row)"
   ]
  },
  {
   "cell_type": "code",
   "execution_count": 5,
   "metadata": {},
   "outputs": [
    {
     "name": "stdout",
     "output_type": "stream",
     "text": [
      "(2, 'maria', 23)\n",
      "(3, 'tommy', 19)\n"
     ]
    }
   ],
   "source": [
    "# 24세 미만 member 가져오기 \n",
    "\n",
    "conn = sq.connect('test.db')\n",
    "cur = conn.cursor()\n",
    "\n",
    "sql = 'select * from member where age < 24 '  \n",
    "# 조건 붙이기 where age < 24 ' 나이가 24세보다 작은.\n",
    "cur.execute(sql)\n",
    "rows = cur.fetchall()\n",
    "\n",
    "cur.close()\n",
    "conn.close()\n",
    "\n",
    "for row in rows:\n",
    "    print(row)"
   ]
  },
  {
   "cell_type": "code",
   "execution_count": null,
   "metadata": {},
   "outputs": [],
   "source": [
    "# ? 세 미만의 member 가져오는 함수 ( 조건문을 파라메터로 가지고 오는 방법 )\n",
    "def get_members_under_age(age):\n",
    "    conn = sq.connect('test.db')\n",
    "    cur = conn.cursor()\n",
    "\n",
    "    sql = 'selext * from member where age < ?'\n",
    "    cur.execute(sql, (age, ) ) # 파라메터는 반드시 튜플로 주어야 함 (age, ) << 튜플 주는 방법. "
   ]
  }
 ],
 "metadata": {
  "kernelspec": {
   "display_name": "base",
   "language": "python",
   "name": "python3"
  },
  "language_info": {
   "codemirror_mode": {
    "name": "ipython",
    "version": 3
   },
   "file_extension": ".py",
   "mimetype": "text/x-python",
   "name": "python",
   "nbconvert_exporter": "python",
   "pygments_lexer": "ipython3",
   "version": "3.11.4"
  },
  "orig_nbformat": 4
 },
 "nbformat": 4,
 "nbformat_minor": 2
}
