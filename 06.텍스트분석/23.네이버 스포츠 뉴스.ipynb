{
 "cells": [
  {
   "cell_type": "markdown",
   "metadata": {},
   "source": [
    "## 네이버 스포츠 뉴스 웹크롤링 , 워드 클라우드 시각화"
   ]
  },
  {
   "cell_type": "code",
   "execution_count": 37,
   "metadata": {},
   "outputs": [],
   "source": [
    "import time\n",
    "from selenium import webdriver\n",
    "from selenium.webdriver.common.by import By\n",
    "from bs4 import BeautifulSoup\n",
    "# from urllib.parse import quote\n",
    "# from tqdm import tqdm\n",
    "# import re, nltk\n",
    "# from konlpy.tag import Okt \n",
    "# import numpy as np\n",
    "# from PIL import Image\n",
    "# import matplotlib.pyplot as plt\n",
    "# from wordcloud import WordCloud\n",
    "# plt.rcParams['font.family'] = 'Malgun Gothic'\n",
    "# plt.rcParams['axes.unicode_minus'] = False"
   ]
  },
  {
   "cell_type": "markdown",
   "metadata": {},
   "source": [
    "- 네이버 스포츠 뉴스 크롤링"
   ]
  },
  {
   "cell_type": "code",
   "execution_count": 38,
   "metadata": {},
   "outputs": [],
   "source": [
    "sports = ['kbaseball', 'wbaseball','kfootball','wfootball', 'basketball','volleyball','golf','general']\n",
    "base_url = 'https://sports.news.naver.com/'\n",
    "suffix_url= '/news/index?isphoto=N&page='"
   ]
  },
  {
   "cell_type": "code",
   "execution_count": 39,
   "metadata": {},
   "outputs": [],
   "source": [
    "driver = webdriver.Chrome()\n",
    "url = f'{base_url}kbaseball{suffix_url}1'\n",
    "driver.get(url)"
   ]
  },
  {
   "cell_type": "code",
   "execution_count": 40,
   "metadata": {},
   "outputs": [
    {
     "data": {
      "text/plain": [
       "20"
      ]
     },
     "execution_count": 40,
     "metadata": {},
     "output_type": "execute_result"
    }
   ],
   "source": [
    "# 기사 목록\n",
    "soup = BeautifulSoup(driver.page_source, 'html.parser')\n",
    "lis = soup.select('.news_list > ul > li')\n",
    "len(lis)"
   ]
  },
  {
   "cell_type": "code",
   "execution_count": 41,
   "metadata": {},
   "outputs": [
    {
     "data": {
      "text/plain": [
       "'AG 출전 의지 강했던 132억 좌완 에이스, 결국 출전 불발…김영규 대체 발탁, 이정후→김성윤 교체 [MK항저우]'"
      ]
     },
     "execution_count": 41,
     "metadata": {},
     "output_type": "execute_result"
    }
   ],
   "source": [
    "# 기사 제목\n",
    "li = lis[0]\n",
    "title = li.select_one('.title').get_text().strip()\n",
    "title"
   ]
  },
  {
   "cell_type": "markdown",
   "metadata": {},
   "source": [
    "- 종목별로 몇페이지가 있는지 확인하기"
   ]
  },
  {
   "cell_type": "code",
   "execution_count": 42,
   "metadata": {},
   "outputs": [],
   "source": [
    "# 10페이지가 넘는 종목 선택\n",
    "url = f'{base_url}wfootball{suffix_url}1'\n",
    "driver.get(url)"
   ]
  },
  {
   "cell_type": "code",
   "execution_count": 43,
   "metadata": {},
   "outputs": [
    {
     "data": {
      "text/plain": [
       "{'kbaseball': 7,\n",
       " 'wbaseball': 5,\n",
       " 'kfootball': 7,\n",
       " 'wfootball': 14,\n",
       " 'basketball': 5,\n",
       " 'volleyball': 5,\n",
       " 'golf': 3,\n",
       " 'general': 10}"
      ]
     },
     "execution_count": 43,
     "metadata": {},
     "output_type": "execute_result"
    }
   ],
   "source": [
    "# 모든 페이지마다 끝나는 조건을 다음을 눌르고 다음 페이지가 없을 때 까지.\n",
    "sports_dict ={}\n",
    "for sport in sports:\n",
    "    url = f'{base_url}{sport}{suffix_url}1'\n",
    "    driver.get(url)\n",
    "    time.sleep(2) \n",
    "\n",
    "    next_clicked=0\n",
    "    while True:\n",
    "        try:\n",
    "            driver.find_element(By.CSS_SELECTOR, '.paginate > .next').click()\n",
    "            next_clicked += 1\n",
    "            time.sleep(2)\n",
    "        except:     # 모든 종목의 마지막 페이지가 있는 화면\n",
    "            pages = driver.find_elements(By.CSS_SELECTOR, '.paginate > a')\n",
    "            if next_clicked == 0:\n",
    "                num_pages = len(pages) + 1\n",
    "            else:\n",
    "                num_pages = next_clicked * 10 + len(pages)\n",
    "            sports_dict[sport] = num_pages\n",
    "            break\n",
    "sports_dict"
   ]
  },
  {
   "cell_type": "markdown",
   "metadata": {},
   "source": [
    "- 모든 종목, 모든 페이지에서 대해서 타이틀 가져오기"
   ]
  },
  {
   "cell_type": "code",
   "execution_count": 51,
   "metadata": {},
   "outputs": [
    {
     "data": {
      "text/plain": [
       "{}"
      ]
     },
     "execution_count": 51,
     "metadata": {},
     "output_type": "execute_result"
    }
   ],
   "source": [
    "sports_dict ={}\n",
    "    # 제목만 따오기 \n",
    "for sport, num_pages in sports_dict.items():\n",
    "    title = li.select_one('.title').get_text().strip()\n",
    "    soup = BeautifulSoup(driver.page_source, 'html.parser')\n",
    "    lis = soup.select('.news_list > ul > li')\n",
    "    for sport in sports:\n",
    "        url = f'{base_url}{sport}{suffix_url}1'\n",
    "        driver.get(url)\n",
    "        time.sleep(2) \n",
    "\n",
    "        next_clicked=0\n",
    "        while True:\n",
    "            try:\n",
    "                driver.find_element(By.CSS_SELECTOR, '.paginate > .next').click()\n",
    "                next_clicked += 1\n",
    "                time.sleep(2)\n",
    "            except:     # 모든 종목의 마지막 페이지가 있는 화면\n",
    "                pages = driver.find_elements(By.CSS_SELECTOR, '.paginate > a')\n",
    "                if next_clicked == 0:\n",
    "                    num_pages = len(pages) + 1\n",
    "                else:\n",
    "                    num_pages = next_clicked * 10 + len(pages)\n",
    "                sports_dict[sport] = num_pages\n",
    "                break\n",
    "        \n",
    "sports_dict"
   ]
  },
  {
   "cell_type": "code",
   "execution_count": null,
   "metadata": {},
   "outputs": [],
   "source": []
  }
 ],
 "metadata": {
  "kernelspec": {
   "display_name": "base",
   "language": "python",
   "name": "python3"
  },
  "language_info": {
   "codemirror_mode": {
    "name": "ipython",
    "version": 3
   },
   "file_extension": ".py",
   "mimetype": "text/x-python",
   "name": "python",
   "nbconvert_exporter": "python",
   "pygments_lexer": "ipython3",
   "version": "3.11.4"
  },
  "orig_nbformat": 4
 },
 "nbformat": 4,
 "nbformat_minor": 2
}
